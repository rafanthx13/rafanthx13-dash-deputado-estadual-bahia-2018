{
 "cells": [
  {
   "cell_type": "markdown",
   "id": "d3382e4d",
   "metadata": {},
   "source": [
    "# Build DashBoard Deputado Federal Eleições 2018 na Bahia\n",
    "\n",
    "**Create em:** 01/05/2022\n",
    "\n",
    "**Update at:** 13/05/2022\n",
    "\n",
    "**Objetivo**: \n",
    "+ Criar DashBoard\n",
    "\n",
    "## Ideias do que adicionar\n",
    "\n",
    "**FEITO**\n",
    "+ [x] Usar site do estadaao e ver bens da pessoa (ve se isso nao ta em doaçoes do tse) [x]\n",
    "+ [x] diminuir iammge [x]\n",
    "+ [x] Melhorar toda a estrutura [x]\n",
    "  - [x] deixar mais enchuto o que sai do primeiro Option [x]\n",
    "  - [x] Criar mais funciçoes [x]\n",
    "  - [x] Tem funçâo que na verdade só chamo uma vez, detectar e retirar [x]\n",
    "+ [x] titulo ser uma row com chamada a arquivo de análise [X]\n",
    "+ [x] Se foi eleito ou não [x]\n",
    "+ [x] rank de votos [x]\n",
    "+ [x] rank de doaçoes [x]  \n",
    "+ [x] a sua ocupaçao [x]\n",
    "+ [x] Retirar quem esta indeferido [x]\n",
    "  \n",
    "**FEITO**\n",
    "\n"
   ]
  },
  {
   "cell_type": "markdown",
   "id": "a5da3103",
   "metadata": {},
   "source": [
    "## Main Content to Build Dash+Plotly Eficient"
   ]
  },
  {
   "cell_type": "markdown",
   "id": "8e64590f",
   "metadata": {},
   "source": [
    "\n",
    "\n",
    "### Dicas gerais\n",
    "\n",
    "````\n",
    "# Nâo de o nome de 'dash.py' ao arquivo\n",
    "# lembre-se de que ao escrever no `.py` deverá ter o inciio e fim diferente do `jupyter`\n",
    "#        para o aqruivo python: O inicio (app) e fim (port) do codigo\n",
    "````\n",
    "\n",
    "### Estilizar\n",
    "\n",
    "````\n",
    "# PARA JUPYTER\n",
    "app = JupyterDash(__name__, external_stylesheets=[dbc.themes.LUMEN])\n",
    "\n",
    "OU\n",
    "# PARA ARQUVI PY\n",
    "app = dash.Dash(__name__, external_stylesheets=[dbc.themes.CYBORG])\n",
    "````\n",
    "\n",
    "Acesse os temas nesse link: https://bootswatch.com/\n",
    "\n",
    "### Problemas\n",
    "\n",
    "Mapear o get da funçâo, output e o id. Fazer os 3 é complicado.\n",
    "\n",
    "Seria melhor centralizar em um lugar só\n",
    "\n",
    "### Por imagem\n",
    "\n",
    "É necessário have ruma imagme inicial e a cada cahamda de callback, criar uma nova. Por isso tem que haver uma inicial"
   ]
  },
  {
   "cell_type": "code",
   "execution_count": 1,
   "id": "f47dd2cf",
   "metadata": {
    "ExecuteTime": {
     "end_time": "2022-05-13T20:12:15.162955Z",
     "start_time": "2022-05-13T20:12:06.106565Z"
    }
   },
   "outputs": [],
   "source": [
    "import plotly.express as px\n",
    "import pandas as pd\n",
    "import barkion as bk\n",
    "import matplotlib.pyplot as plt\n",
    "import sklearn\n",
    "import seaborn as sns\n",
    "from math import ceil\n",
    "\n",
    "\n",
    "pd.set_option('display.max_rows', 500)\n",
    "pd.set_option('display.max_columns', 500)\n",
    "pd.set_option('display.width', 1000)\n",
    "pd.options.display.float_format = '{:.4f}'.format"
   ]
  },
  {
   "cell_type": "code",
   "execution_count": 2,
   "id": "c1a8a036",
   "metadata": {
    "ExecuteTime": {
     "end_time": "2022-05-13T20:12:16.262635Z",
     "start_time": "2022-05-13T20:12:15.165955Z"
    },
    "scrolled": true
   },
   "outputs": [
    {
     "data": {
      "text/html": [
       "<div>\n",
       "<style scoped>\n",
       "    .dataframe tbody tr th:only-of-type {\n",
       "        vertical-align: middle;\n",
       "    }\n",
       "\n",
       "    .dataframe tbody tr th {\n",
       "        vertical-align: top;\n",
       "    }\n",
       "\n",
       "    .dataframe thead th {\n",
       "        text-align: right;\n",
       "    }\n",
       "</style>\n",
       "<table border=\"1\" class=\"dataframe\">\n",
       "  <thead>\n",
       "    <tr style=\"text-align: right;\">\n",
       "      <th></th>\n",
       "      <th>deputado_url</th>\n",
       "      <th>deputado_nome</th>\n",
       "      <th>url_vote_deputado</th>\n",
       "      <th>url_the_city_votes</th>\n",
       "      <th>cidade</th>\n",
       "      <th>percentage</th>\n",
       "      <th>votes</th>\n",
       "    </tr>\n",
       "  </thead>\n",
       "  <tbody>\n",
       "    <tr>\n",
       "      <th>0</th>\n",
       "      <td>joao-isidorio-70000</td>\n",
       "      <td>Joao Isidorio</td>\n",
       "      <td>https://especiais.gazetadopovo.com.br/eleicoes...</td>\n",
       "      <td>https://especiais.gazetadopovo.com.br/eleicoes...</td>\n",
       "      <td>Candeias</td>\n",
       "      <td>15,31%</td>\n",
       "      <td>6556</td>\n",
       "    </tr>\n",
       "  </tbody>\n",
       "</table>\n",
       "</div>"
      ],
      "text/plain": [
       "          deputado_url  deputado_nome                                  url_vote_deputado                                 url_the_city_votes    cidade percentage  votes\n",
       "0  joao-isidorio-70000  Joao Isidorio  https://especiais.gazetadopovo.com.br/eleicoes...  https://especiais.gazetadopovo.com.br/eleicoes...  Candeias     15,31%   6556"
      ]
     },
     "execution_count": 2,
     "metadata": {},
     "output_type": "execute_result"
    }
   ],
   "source": [
    "df_deputado_cidade = pd.read_csv('./deputado_votes_by_city.csv', sep=';')\n",
    "df_deputado_cidade.head(1)"
   ]
  },
  {
   "cell_type": "code",
   "execution_count": 13,
   "id": "d9824332",
   "metadata": {
    "ExecuteTime": {
     "end_time": "2022-05-13T20:51:40.838191Z",
     "start_time": "2022-05-13T20:51:40.377710Z"
    },
    "scrolled": true
   },
   "outputs": [
    {
     "data": {
      "text/html": [
       "<div>\n",
       "<style scoped>\n",
       "    .dataframe tbody tr th:only-of-type {\n",
       "        vertical-align: middle;\n",
       "    }\n",
       "\n",
       "    .dataframe tbody tr th {\n",
       "        vertical-align: top;\n",
       "    }\n",
       "\n",
       "    .dataframe thead th {\n",
       "        text-align: right;\n",
       "    }\n",
       "</style>\n",
       "<table border=\"1\" class=\"dataframe\">\n",
       "  <thead>\n",
       "    <tr style=\"text-align: right;\">\n",
       "      <th></th>\n",
       "      <th>nrPartido</th>\n",
       "      <th>nomePartido</th>\n",
       "      <th>siglaPartido</th>\n",
       "      <th>idCandidato</th>\n",
       "      <th>totalDespesasContratadas</th>\n",
       "      <th>totalDespesasPagas</th>\n",
       "      <th>totalRecebido</th>\n",
       "      <th>totalFinanceiro</th>\n",
       "      <th>idIBGE</th>\n",
       "      <th>nrCandidato</th>\n",
       "      <th>deputado_url</th>\n",
       "      <th>eleito</th>\n",
       "      <th>votes</th>\n",
       "      <th>votes%</th>\n",
       "      <th>votes_by_city_url</th>\n",
       "      <th>img</th>\n",
       "      <th>nomeCompleto</th>\n",
       "      <th>desc</th>\n",
       "      <th>Nome na urna</th>\n",
       "      <th>Sexo</th>\n",
       "      <th>Idade</th>\n",
       "      <th>Data de nascimento</th>\n",
       "      <th>Ocupação</th>\n",
       "      <th>Grau de instrução</th>\n",
       "      <th>Estado Civil</th>\n",
       "      <th>Cor/Raça</th>\n",
       "      <th>Município de nascimento</th>\n",
       "      <th>Número</th>\n",
       "      <th>Situação da candidatura</th>\n",
       "      <th>Estado</th>\n",
       "      <th>Partido</th>\n",
       "      <th>Coligação</th>\n",
       "      <th>Composição</th>\n",
       "      <th>BensDeclarados</th>\n",
       "      <th>nr_candidato</th>\n",
       "    </tr>\n",
       "  </thead>\n",
       "  <tbody>\n",
       "    <tr>\n",
       "      <th>0</th>\n",
       "      <td>31</td>\n",
       "      <td>Partido Humanista da Solidariedade</td>\n",
       "      <td>PHS</td>\n",
       "      <td>50000606390</td>\n",
       "      <td>NaN</td>\n",
       "      <td>NaN</td>\n",
       "      <td>NaN</td>\n",
       "      <td>NaN</td>\n",
       "      <td>50000606390</td>\n",
       "      <td>31168</td>\n",
       "      <td>abraao-joviniano-31168</td>\n",
       "      <td>Não foi eleito</td>\n",
       "      <td>700</td>\n",
       "      <td>0,01%</td>\n",
       "      <td>https://especiais.gazetadopovo.com.br/eleicoes...</td>\n",
       "      <td>https://cdn-eleicoes.gazetadopovo.com.br/fotos...</td>\n",
       "      <td>Abraao Joviniano dos Santos</td>\n",
       "      <td>Casado(a),  Auxiliar de Escritório e Assemelha...</td>\n",
       "      <td>Abraao Joviniano</td>\n",
       "      <td>Masculino</td>\n",
       "      <td>53 anos</td>\n",
       "      <td>15/05/1968</td>\n",
       "      <td>Auxiliar de Escritório e Assemelhados</td>\n",
       "      <td>Ensino Médio completo</td>\n",
       "      <td>Casado(a)</td>\n",
       "      <td>Parda</td>\n",
       "      <td>Salvador-BA</td>\n",
       "      <td>31168</td>\n",
       "      <td>Deferido</td>\n",
       "      <td>BAHIA</td>\n",
       "      <td>PHS - Partido Humanista da Solidariedade</td>\n",
       "      <td>RENOVA BAHIA</td>\n",
       "      <td>PHS / PPS / PRTB / PSL</td>\n",
       "      <td>R$ 0,00</td>\n",
       "      <td>31168</td>\n",
       "    </tr>\n",
       "    <tr>\n",
       "      <th>1</th>\n",
       "      <td>15</td>\n",
       "      <td>Movimento Democrático Brasileiro</td>\n",
       "      <td>MDB</td>\n",
       "      <td>50000608091</td>\n",
       "      <td>150472.7900</td>\n",
       "      <td>150472.7900</td>\n",
       "      <td>170500.0000</td>\n",
       "      <td>150500.0000</td>\n",
       "      <td>50000608091</td>\n",
       "      <td>15153</td>\n",
       "      <td>ademar-simoes-15153</td>\n",
       "      <td>Não foi eleito</td>\n",
       "      <td>4405</td>\n",
       "      <td>0,06%</td>\n",
       "      <td>https://especiais.gazetadopovo.com.br/eleicoes...</td>\n",
       "      <td>https://cdn-eleicoes.gazetadopovo.com.br/fotos...</td>\n",
       "      <td>Ademar Simões de Azevedo</td>\n",
       "      <td>Casado(a),  Fiscal,       nascido  em 26/09/19...</td>\n",
       "      <td>Ademar Simões</td>\n",
       "      <td>Masculino</td>\n",
       "      <td>72 anos</td>\n",
       "      <td>26/09/1949</td>\n",
       "      <td>Fiscal</td>\n",
       "      <td>Superior completo</td>\n",
       "      <td>Casado(a)</td>\n",
       "      <td>Branca</td>\n",
       "      <td>Inhambupe-BA</td>\n",
       "      <td>15153</td>\n",
       "      <td>Deferido</td>\n",
       "      <td>BAHIA</td>\n",
       "      <td>MDB - Movimento Democrático Brasileiro</td>\n",
       "      <td>PRA MUDAR DE VERDADE</td>\n",
       "      <td>MDB / DC</td>\n",
       "      <td>R$ 1.712.624,00</td>\n",
       "      <td>15153</td>\n",
       "    </tr>\n",
       "    <tr>\n",
       "      <th>2</th>\n",
       "      <td>11</td>\n",
       "      <td>Partido Progressista</td>\n",
       "      <td>PP</td>\n",
       "      <td>50000605231</td>\n",
       "      <td>177397.1800</td>\n",
       "      <td>177397.1800</td>\n",
       "      <td>198968.6000</td>\n",
       "      <td>177413.6000</td>\n",
       "      <td>50000605231</td>\n",
       "      <td>11111</td>\n",
       "      <td>aderbal-caldas-11111</td>\n",
       "      <td>Eleito</td>\n",
       "      <td>51480</td>\n",
       "      <td>0,74%</td>\n",
       "      <td>https://especiais.gazetadopovo.com.br/eleicoes...</td>\n",
       "      <td>https://cdn-eleicoes.gazetadopovo.com.br/fotos...</td>\n",
       "      <td>Aderbal Fulco Caldas</td>\n",
       "      <td>Solteiro(a),  Deputado,       nascido  em 18/0...</td>\n",
       "      <td>Aderbal Caldas</td>\n",
       "      <td>Masculino</td>\n",
       "      <td>79 anos</td>\n",
       "      <td>18/03/1943</td>\n",
       "      <td>Deputado</td>\n",
       "      <td>Ensino Médio completo</td>\n",
       "      <td>Solteiro(a)</td>\n",
       "      <td>Branca</td>\n",
       "      <td>Crisópolis-BA</td>\n",
       "      <td>11111</td>\n",
       "      <td>Deferido</td>\n",
       "      <td>BAHIA</td>\n",
       "      <td>PP - Progressistas</td>\n",
       "      <td>FORÇA DO TRABALHO PELA BAHIA</td>\n",
       "      <td>PT / PMB / PSD / PR / PDT / PODE / PRP / PP / ...</td>\n",
       "      <td>R$ 2.141.465,00</td>\n",
       "      <td>11111</td>\n",
       "    </tr>\n",
       "    <tr>\n",
       "      <th>3</th>\n",
       "      <td>51</td>\n",
       "      <td>Patriota</td>\n",
       "      <td>PATRI</td>\n",
       "      <td>50000607719</td>\n",
       "      <td>0.0000</td>\n",
       "      <td>0.0000</td>\n",
       "      <td>1890.1100</td>\n",
       "      <td>0.0000</td>\n",
       "      <td>50000607719</td>\n",
       "      <td>51605</td>\n",
       "      <td>adilson-cerqueira-51605</td>\n",
       "      <td>Não foi eleito</td>\n",
       "      <td>348</td>\n",
       "      <td>0,00%</td>\n",
       "      <td>https://especiais.gazetadopovo.com.br/eleicoes...</td>\n",
       "      <td>https://cdn-eleicoes.gazetadopovo.com.br/fotos...</td>\n",
       "      <td>Adilson Cerqueira</td>\n",
       "      <td>Casado(a),  Aposentado (Exceto Servidor Públic...</td>\n",
       "      <td>Adilson Cerqueira</td>\n",
       "      <td>Masculino</td>\n",
       "      <td>70 anos</td>\n",
       "      <td>25/03/1952</td>\n",
       "      <td>Aposentado (Exceto Servidor Público)</td>\n",
       "      <td>Ensino Fundamental incompleto</td>\n",
       "      <td>Casado(a)</td>\n",
       "      <td>Parda</td>\n",
       "      <td>Salvador-BA</td>\n",
       "      <td>51605</td>\n",
       "      <td>Deferido</td>\n",
       "      <td>BAHIA</td>\n",
       "      <td>PATRI - Patriota</td>\n",
       "      <td>COLIGAÇÃO REDE PATRIOTA DA BAHIA</td>\n",
       "      <td>PATRI / REDE</td>\n",
       "      <td>R$ 103.205,00</td>\n",
       "      <td>51605</td>\n",
       "    </tr>\n",
       "    <tr>\n",
       "      <th>4</th>\n",
       "      <td>20</td>\n",
       "      <td>Partido Social Cristão</td>\n",
       "      <td>PSC</td>\n",
       "      <td>50000605154</td>\n",
       "      <td>0.0000</td>\n",
       "      <td>0.0000</td>\n",
       "      <td>2626.5200</td>\n",
       "      <td>0.0000</td>\n",
       "      <td>50000605154</td>\n",
       "      <td>20222</td>\n",
       "      <td>adilson-da-silva-20222</td>\n",
       "      <td>Não foi eleito</td>\n",
       "      <td>242</td>\n",
       "      <td>0,00%</td>\n",
       "      <td>https://especiais.gazetadopovo.com.br/eleicoes...</td>\n",
       "      <td>https://cdn-eleicoes.gazetadopovo.com.br/fotos...</td>\n",
       "      <td>Adilson Jesus da Silva</td>\n",
       "      <td>Casado(a),  Motorista Particular,       nascid...</td>\n",
       "      <td>Adilson da Silva</td>\n",
       "      <td>Masculino</td>\n",
       "      <td>53 anos</td>\n",
       "      <td>21/08/1968</td>\n",
       "      <td>Motorista Particular</td>\n",
       "      <td>Ensino Médio completo</td>\n",
       "      <td>Casado(a)</td>\n",
       "      <td>Parda</td>\n",
       "      <td>Salvador-BA</td>\n",
       "      <td>20222</td>\n",
       "      <td>Deferido</td>\n",
       "      <td>BAHIA</td>\n",
       "      <td>PSC - Partido Social Cristão</td>\n",
       "      <td>BAHIA LIVRE</td>\n",
       "      <td>PSC / PTB / PPL</td>\n",
       "      <td>R$ 0,00</td>\n",
       "      <td>20222</td>\n",
       "    </tr>\n",
       "  </tbody>\n",
       "</table>\n",
       "</div>"
      ],
      "text/plain": [
       "   nrPartido                         nomePartido siglaPartido  idCandidato  totalDespesasContratadas  totalDespesasPagas  totalRecebido  totalFinanceiro       idIBGE  nrCandidato             deputado_url          eleito  votes votes%                                  votes_by_city_url                                                img                 nomeCompleto                                               desc       Nome na urna       Sexo    Idade Data de nascimento                               Ocupação              Grau de instrução Estado Civil Cor/Raça Município de nascimento  Número Situação da candidatura Estado                                   Partido                         Coligação                                         Composição   BensDeclarados  nr_candidato\n",
       "0         31  Partido Humanista da Solidariedade          PHS  50000606390                       NaN                 NaN            NaN              NaN  50000606390        31168   abraao-joviniano-31168  Não foi eleito    700  0,01%  https://especiais.gazetadopovo.com.br/eleicoes...  https://cdn-eleicoes.gazetadopovo.com.br/fotos...  Abraao Joviniano dos Santos  Casado(a),  Auxiliar de Escritório e Assemelha...   Abraao Joviniano  Masculino  53 anos         15/05/1968  Auxiliar de Escritório e Assemelhados          Ensino Médio completo    Casado(a)    Parda             Salvador-BA   31168                Deferido  BAHIA  PHS - Partido Humanista da Solidariedade                      RENOVA BAHIA                             PHS / PPS / PRTB / PSL          R$ 0,00         31168\n",
       "1         15    Movimento Democrático Brasileiro          MDB  50000608091               150472.7900         150472.7900    170500.0000      150500.0000  50000608091        15153      ademar-simoes-15153  Não foi eleito   4405  0,06%  https://especiais.gazetadopovo.com.br/eleicoes...  https://cdn-eleicoes.gazetadopovo.com.br/fotos...     Ademar Simões de Azevedo  Casado(a),  Fiscal,       nascido  em 26/09/19...      Ademar Simões  Masculino  72 anos         26/09/1949                                 Fiscal              Superior completo    Casado(a)   Branca            Inhambupe-BA   15153                Deferido  BAHIA    MDB - Movimento Democrático Brasileiro              PRA MUDAR DE VERDADE                                           MDB / DC  R$ 1.712.624,00         15153\n",
       "2         11                Partido Progressista           PP  50000605231               177397.1800         177397.1800    198968.6000      177413.6000  50000605231        11111     aderbal-caldas-11111          Eleito  51480  0,74%  https://especiais.gazetadopovo.com.br/eleicoes...  https://cdn-eleicoes.gazetadopovo.com.br/fotos...         Aderbal Fulco Caldas  Solteiro(a),  Deputado,       nascido  em 18/0...     Aderbal Caldas  Masculino  79 anos         18/03/1943                               Deputado          Ensino Médio completo  Solteiro(a)   Branca           Crisópolis-BA   11111                Deferido  BAHIA                        PP - Progressistas      FORÇA DO TRABALHO PELA BAHIA  PT / PMB / PSD / PR / PDT / PODE / PRP / PP / ...  R$ 2.141.465,00         11111\n",
       "3         51                            Patriota        PATRI  50000607719                    0.0000              0.0000      1890.1100           0.0000  50000607719        51605  adilson-cerqueira-51605  Não foi eleito    348  0,00%  https://especiais.gazetadopovo.com.br/eleicoes...  https://cdn-eleicoes.gazetadopovo.com.br/fotos...            Adilson Cerqueira  Casado(a),  Aposentado (Exceto Servidor Públic...  Adilson Cerqueira  Masculino  70 anos         25/03/1952   Aposentado (Exceto Servidor Público)  Ensino Fundamental incompleto    Casado(a)    Parda             Salvador-BA   51605                Deferido  BAHIA                          PATRI - Patriota  COLIGAÇÃO REDE PATRIOTA DA BAHIA                                       PATRI / REDE    R$ 103.205,00         51605\n",
       "4         20              Partido Social Cristão          PSC  50000605154                    0.0000              0.0000      2626.5200           0.0000  50000605154        20222   adilson-da-silva-20222  Não foi eleito    242  0,00%  https://especiais.gazetadopovo.com.br/eleicoes...  https://cdn-eleicoes.gazetadopovo.com.br/fotos...       Adilson Jesus da Silva  Casado(a),  Motorista Particular,       nascid...   Adilson da Silva  Masculino  53 anos         21/08/1968                   Motorista Particular          Ensino Médio completo    Casado(a)    Parda             Salvador-BA   20222                Deferido  BAHIA              PSC - Partido Social Cristão                       BAHIA LIVRE                                    PSC / PTB / PPL          R$ 0,00         20222"
      ]
     },
     "execution_count": 13,
     "metadata": {},
     "output_type": "execute_result"
    }
   ],
   "source": [
    "df_estadao = pd.read_csv('./deputado_bens_estadao.csv', sep=';')\n",
    "df_deputado_tse = pd.read_csv('./deputado_estadual_tse.csv', sep=';')\n",
    "df_deputado_gazeta = pd.read_csv('./deputado_gazeta_info.csv', sep=';')\n",
    "\n",
    "df_deputado_info =  pd.merge(\n",
    "    df_deputado_tse, df_deputado_gazeta,\n",
    "    how=\"inner\", left_on='nrCandidato', right_on='Número'\n",
    ")\n",
    "\n",
    "df_deputado_info =  pd.merge(\n",
    "    df_deputado_info, df_estadao.drop_duplicates('nr_candidato'),\n",
    "    how=\"inner\", left_on='Número', right_on='nr_candidato'\n",
    ")\n",
    "\n",
    "df_deputado_info.head()"
   ]
  },
  {
   "cell_type": "code",
   "execution_count": 4,
   "id": "b4451a21",
   "metadata": {
    "ExecuteTime": {
     "end_time": "2022-05-13T20:12:16.404536Z",
     "start_time": "2022-05-13T20:12:16.328585Z"
    }
   },
   "outputs": [
    {
     "data": {
      "text/plain": [
       "0    abraao-joviniano-31168\n",
       "Name: deputado_url, dtype: object"
      ]
     },
     "execution_count": 4,
     "metadata": {},
     "output_type": "execute_result"
    }
   ],
   "source": [
    "df_deputado_info.head(1)"
   ]
  },
  {
   "cell_type": "markdown",
   "id": "66489a27",
   "metadata": {},
   "source": [
    "# My DashBoard"
   ]
  },
  {
   "cell_type": "code",
   "execution_count": 77,
   "id": "cb77dd75",
   "metadata": {
    "ExecuteTime": {
     "end_time": "2022-05-13T23:15:35.733329Z",
     "start_time": "2022-05-13T23:15:32.512934Z"
    },
    "scrolled": true
   },
   "outputs": [
    {
     "data": {
      "text/html": [
       "\n",
       "        <iframe\n",
       "            width=\"100%\"\n",
       "            height=\"650\"\n",
       "            src=\"http://127.0.0.1:8056/\"\n",
       "            frameborder=\"0\"\n",
       "            allowfullscreen\n",
       "            \n",
       "        ></iframe>\n",
       "        "
      ],
      "text/plain": [
       "<IPython.lib.display.IFrame at 0x1ee272b0e80>"
      ]
     },
     "metadata": {},
     "output_type": "display_data"
    }
   ],
   "source": [
    "import plotly.express as px\n",
    "from jupyter_dash import JupyterDash\n",
    "from dash import dcc\n",
    "from dash import html\n",
    "from dash.dependencies import Input, Output\n",
    "from dash_bootstrap_templates import load_figure_template # aplicar tema ao grafiscos plotly\n",
    "import dash_bootstrap_components as dbc\n",
    "\n",
    "# Build App\n",
    "app = JupyterDash(__name__, external_stylesheets=[dbc.themes.SOLAR], meta_tags=[\n",
    "        {\"name\": \"viewport\", \"content\": \"width=device-width, initial-scale=1\"}\n",
    "    ])\n",
    "theme_graphs = 'solar'\n",
    "load_figure_template([theme_graphs])\n",
    "# DarkThemes: SOLAR; CYBORG\n",
    "# Outros temas: https://dash-bootstrap-components.opensource.faculty.ai/docs/themes/explorer/\n",
    "\n",
    "############### Functions ###############\n",
    "\n",
    "# filter df_deputado_cidade with votes by candidate per city by candidate\n",
    "def get_df_deputado_city(deputado_name):\n",
    "    url_key = df_deputado_info[\n",
    "        df_deputado_info['Nome na urna'] == deputado_name]['deputado_url'].iloc[0]\n",
    "    return pd.merge(\n",
    "            df_deputado_info.rename(columns={'votes': 'totalVotes'}),\n",
    "            df_deputado_cidade[ df_deputado_cidade['deputado_url'] == url_key],\n",
    "            how=\"inner\", left_on='deputado_url', right_on='deputado_url'\n",
    "        )\n",
    "\n",
    "# filter df_deputado_info by name\n",
    "def get_df_deputado_row(deputado_name):\n",
    "    return df_deputado_info[\n",
    "        df_deputado_info['Nome na urna'] == deputado_name\n",
    "    ]\n",
    "\n",
    "def cast_float_to_br_int(anumber):\n",
    "    return \"{:,.0f}\".format(anumber).replace(\n",
    "        ',','x').replace('.',',').replace('x','.')\n",
    "\n",
    "# convert money to R$\n",
    "def cast_float_to_money(anumber):\n",
    "    if(not anumber):\n",
    "        return 'R$ 0,00'\n",
    "    return \"R$ {:,.2f}\".format(anumber).replace(\n",
    "        ',','x').replace('.',',').replace('x','.')\n",
    "\n",
    "\n",
    "############### READ DATASETS ###############\n",
    "\n",
    "# Cidades e Votos\n",
    "df_deputado_cidade = pd.read_csv('./deputado_votes_by_city.csv', sep=';')\n",
    "\n",
    "# TSE + Gazeta + Estadao\n",
    "df_deputado_info =  pd.merge(\n",
    "    pd.read_csv('./deputado_estadual_tse.csv', sep=';'),\n",
    "    pd.read_csv('./deputado_gazeta_info.csv', sep=';'),\n",
    "    how=\"inner\", left_on='nrCandidato', right_on='Número'\n",
    ")\n",
    "\n",
    "df_deputado_info =  pd.merge( df_deputado_info,\n",
    "    pd.read_csv('./deputado_bens_estadao.csv', sep=';').drop_duplicates('nr_candidato'),\n",
    "    how=\"inner\", left_on='Número', right_on='nr_candidato'\n",
    ")\n",
    "\n",
    "# GEOJSON\n",
    "with open('./geojson-bahia-cities.json', encoding=\"utf-8\") as response:\n",
    "    municipios = json.load(response)\n",
    "    \n",
    "## Pre-Processing\n",
    "\n",
    "# calculate ranks\n",
    "df_deputado_info['rank_votes'] = df_deputado_info[\n",
    "    'votes'].rank(method='first', ascending=False).apply(int)\n",
    "\n",
    "df_deputado_info['BensDeclarados'] = df_deputado_info[\n",
    "    'BensDeclarados'].fillna(-1.0)\n",
    "df_deputado_info['rank_bens'] = df_deputado_info[\n",
    "    'BensDeclarados'].rank(method='first', ascending=False).apply(int)\n",
    "\n",
    "df_deputado_info['totalRecebido'] = df_deputado_info[\n",
    "    'totalRecebido'].fillna(-1.0)\n",
    "df_deputado_info['rank_campanha'] = df_deputado_info[\n",
    "    'totalRecebido'].rank(method='first', ascending=False).apply(int)\n",
    "\n",
    "# deletar com situacao indeferida\n",
    "df_deputado_info = df_deputado_info.drop( df_deputado_info[\n",
    "    df_deputado_info['Situação da candidatura'] == 'Indeferido'].index)\n",
    "    \n",
    "# Start Temp DF\n",
    "## Necessario para ser o primeiro dado a ser carregado\n",
    "first_deputado = 'Joao Isidorio'\n",
    "df_temp_city = get_df_deputado_city(first_deputado)\n",
    "df_temp_city['porcentagem'] = df_temp_city['percentage'].apply(\n",
    "    lambda x: float(x.replace(',','.').replace('%','')))\n",
    "\n",
    "\n",
    "############### GRAPH PLOTLY FUNCTION ###############\n",
    "\n",
    "def plotly_map_plot(adf, coly, pretitle, hover_data=[]):\n",
    "    fig = px.choropleth_mapbox(\n",
    "        data_frame=adf.sort_values(coly, ascending=False).head(10),\n",
    "        geojson=municipios, \n",
    "        color=coly, # valor a ser pintado # votes\n",
    "        locations=\"cidade\",  # nome do local\n",
    "        featureidkey=\"properties.name\", # nome da cidade no GeoJSON\n",
    "        center = {\"lat\": -14.0902, \"lon\": -40.7129},\n",
    "        mapbox_style=\"carto-positron\",\n",
    "        color_continuous_scale=\"inferno\",\n",
    "        hover_data=hover_data,\n",
    "        template=theme_graphs,\n",
    "        zoom=4)\n",
    "    fig.update_layout(\n",
    "        title_text = pretitle + ' - ' + adf.iloc[0]['Nome na urna'],\n",
    "    )\n",
    "    return fig\n",
    "\n",
    "\n",
    "def plotly_bar_plot(adf, colx, coly, col_text, hover_data=[], rank=10, orderby=False):\n",
    "    return px.bar(\n",
    "        adf.sort_values(coly, ascending=orderby).head(rank),\n",
    "        x=colx,\n",
    "        y=coly,\n",
    "        color=coly,\n",
    "        color_continuous_scale=\"inferno\",\n",
    "        hover_data=hover_data,\n",
    "        template=theme_graphs,\n",
    "        text_auto=col_text\n",
    "    )\n",
    "\n",
    "\n",
    "############### GRAPH PLOTLY CREATE FIRST ###############\n",
    "\n",
    "first_map_plot = plotly_map_plot(\n",
    "    df_temp_city, coly='votes', pretitle='Qtd Votos',\n",
    "    hover_data=['percentage'] \n",
    ")\n",
    "\n",
    "first_bar_plot = plotly_bar_plot(\n",
    "    df_temp_city, colx='cidade', coly='votes',\n",
    "    col_text='votes', hover_data=['percentage'] \n",
    ")\n",
    "\n",
    "fig_map_percentage = plotly_map_plot(\n",
    "    df_temp_city, coly='porcentagem', pretitle='Porcentagem de Votos',\n",
    "    hover_data=['percentage', 'totalVotes'] \n",
    ")\n",
    "\n",
    "fig_bar_percentage = plotly_bar_plot(\n",
    "    df_temp_city, colx='cidade', coly='porcentagem',\n",
    "    col_text='percentage', hover_data=['votes'] \n",
    ")\n",
    "\n",
    "\n",
    "############### STRUCTURE ###############\n",
    "\n",
    "col1 = [\n",
    "    html.H5(\"Escolha o Deputado Estadual:\",\n",
    "            style={'marginBottom': '20px'}),\n",
    "    html.Div(\n",
    "        className=\"div-for-dropdown\",\n",
    "        id=\"div-test\",\n",
    "        style={'marginBottom': '20px'},\n",
    "        children=[dcc.Dropdown(\n",
    "            df_deputado_info['Nome na urna'],\n",
    "            value=first_deputado, # coloca value para ja começar com algum selecionado\n",
    "            id='deputado-dropdown'),\n",
    "        ],\n",
    "    ),\n",
    "    dbc.Card([\n",
    "            dbc.CardBody([\n",
    "            html.B('Nome Completo: '),\n",
    "                                html.Br(),\n",
    "            html.Span(id='nomeCompleto'),\n",
    "                html.Br(),\n",
    "            html.B('Partido: '),\n",
    "                                html.Br(),\n",
    "            html.Span(id='nrPartido'),\n",
    "            html.Span(' - '),\n",
    "            html.Span(id='Partido'),\n",
    "                html.Br(),\n",
    "            html.B('N° Candidato: '),\n",
    "            html.Span(id='nrCandidato')\n",
    "        ])\n",
    "    ], style={'padding': 0}),\n",
    "    dbc.Card(dbc.CardBody([\n",
    "            html.Span('Situação: '),\n",
    "            html.B(id='eleito'),\n",
    "        ])),\n",
    "]\n",
    "\n",
    "col2 = dbc.Card([\n",
    "    dbc.CardImg(\n",
    "        id='img',\n",
    "        src=\"https://cdn-eleicoes.gazetadopovo.com.br/fotos/bahia/deputado-estadual/joao-isidorio-70000.jpg\",\n",
    "        style={'width': '75%'}\n",
    "    ),\n",
    "], style={'textAlign': 'center'}, body=True)\n",
    "\n",
    "col3 = [ dbc.Card(dbc.CardBody([\n",
    "            html.B('Idade: '),\n",
    "            html.Span(id='Idade'),\n",
    "                html.Br(),\n",
    "            html.B('Ocupação: '),\n",
    "            html.Span(id='Ocupação'),\n",
    "                html.Br(),\n",
    "            html.B('Cor/Raça: '),\n",
    "            html.Span(id='Cor/Raça'),\n",
    "                    html.Br(),\n",
    "            html.B('Estado Civil: '),\n",
    "            html.Span(id='Estado Civil'),\n",
    "                    html.Br(),\n",
    "            html.B('Cidade nascimento: '),\n",
    "            html.Span(id='Município de nascimento'),\n",
    "                    html.Br(),\n",
    "            html.B('Escolaridade: '),\n",
    "            html.Span(id='Grau de instrução'),    \n",
    "        ])),\n",
    "        dbc.Card(dbc.CardBody([\n",
    "            html.B('Gasto em Campanha: '),\n",
    "                html.Br(),\n",
    "            html.Span(id='totalRecebido'),\n",
    "            html.Span(' \\ rank: '),\n",
    "            html.Span(id='rank_campanha'),\n",
    "                html.Br(),\n",
    "            html.B('Qtd Votos: '),\n",
    "            html.Span(id='votes'),\n",
    "            html.Span(' \\ rank: '),\n",
    "            html.Span(id='rank_votes'),\n",
    "                html.Br(),\n",
    "            html.B('Bens Declarados: '),\n",
    "                html.Br(),\n",
    "            html.Span(id='BensDeclarados'),\n",
    "            html.Span(' \\ rank: '),\n",
    "            html.Span(id='rank_bens'),\n",
    "        ])),\n",
    "]\n",
    "\n",
    "app.layout = dbc.Container(\n",
    "    children=[\n",
    "        # Titulo e Info Input\n",
    "        dbc.Row([\n",
    "            html.H1(children=\"DashBoard Eleições 2018 - Deputados Estaduais na Bahia\"),\n",
    "        ]),\n",
    "        dbc.Row([\n",
    "            dbc.Col(col1),\n",
    "            \n",
    "            dbc.Col(col2),\n",
    "                \n",
    "            dbc.Col(col3),\n",
    "                \n",
    "        ]),\n",
    "        dbc.Row([\n",
    "            html.H3(children=\"Cidades com maior quantidade de votos\")\n",
    "        ]),\n",
    "        # Figuras\n",
    "        dbc.Row([\n",
    "            dbc.Col([\n",
    "                dbc.Card(dbc.CardBody([\n",
    "                    dcc.Loading(\n",
    "                        id=\"loading-1\",\n",
    "                        type=\"default\",\n",
    "                        children=[\n",
    "                            dcc.Graph(id=\"map-votes-number\", figure=first_map_plot)\n",
    "                        ],\n",
    "                    ),\n",
    "                ] )),\n",
    "            ]),\n",
    "            dbc.Col([\n",
    "                dbc.Card(dbc.CardBody([\n",
    "                    dcc.Loading(\n",
    "                        id=\"loading-2\",\n",
    "                        type=\"default\",\n",
    "                        children=[\n",
    "                            dcc.Graph(id=\"bar-votes-number\", figure=first_bar_plot)\n",
    "                        ],\n",
    "                    ),\n",
    "                ])),\n",
    "            ]),\n",
    "        ]),\n",
    "        #########\n",
    "        dbc.Row([\n",
    "            html.H3(children=\"Cidades com maior porcentagem de votos\")\n",
    "        ]),\n",
    "        # Figuras\n",
    "        dbc.Row([\n",
    "            dbc.Col([\n",
    "                dbc.Card(dbc.CardBody([\n",
    "                    dcc.Loading(\n",
    "                        id=\"loading-percentage-1\",\n",
    "                        type=\"default\",\n",
    "                        children=[\n",
    "                            dcc.Graph(id=\"map-percentage\", figure=fig_map_percentage)\n",
    "                        ],\n",
    "                    ),\n",
    "                ] )),\n",
    "            ]),\n",
    "            dbc.Col([\n",
    "                dbc.Card(dbc.CardBody([\n",
    "                    dcc.Loading(\n",
    "                        id=\"loading-percentage-2\",\n",
    "                        type=\"default\",\n",
    "                        children=[\n",
    "                            dcc.Graph(id=\"bar-percentage\", figure=fig_bar_percentage)\n",
    "                        ],\n",
    "                    ),\n",
    "                ])),\n",
    "            ]),\n",
    "        ], style={'marginBottom': '30px'}),\n",
    "        ####\n",
    "        dbc.Row([\n",
    "            html.Div([\n",
    "                html.Span('Desenvolvido por Rafael Morais de Assis - '),\n",
    "                html.A('GitHub Link', href='https://github.com/rafanthx13'),\n",
    "                html.Span(' - Fonte dos dados: TSE, Gazeta do Povo, Estadão -'),\n",
    "                html.A('Análise Exploratória de Dados',\n",
    "                    href='https://github.com/rafanthx13/rafanthx13-dash-deputado-estadual-bahia-2018/blob/main/src/02_eda_deputados_estaduais.ipynb'\n",
    "                ),\n",
    "            ]),\n",
    "        ]),\n",
    "], fluid=True)\n",
    "\n",
    "############### CALL BACK & INTERATIVITY ###############\n",
    "\n",
    "def get_deputado_info(deputado_name):\n",
    "    r = df_deputado_info[ df_deputado_info['Nome na urna'] == deputado_name]\n",
    "    list_attrs_output = ['nomeCompleto', 'img', 'Partido',\n",
    "        'nrCandidato', 'nrPartido', 'Idade', 'Ocupação', 'Cor/Raça', 'Estado Civil',\n",
    "        # part2\n",
    "        'Município de nascimento', 'Grau de instrução', 'eleito',\n",
    "        'BensDeclarados',\n",
    "        # part3\n",
    "        'rank_votes', 'rank_bens', 'rank_campanha',\n",
    "]\n",
    "    rest_list = []\n",
    "    # total Recebido\n",
    "    rest_list.append(cast_float_to_money(r['totalRecebido'].iloc[0]))\n",
    "    rest_list.append(cast_float_to_br_int(r['votes'].iloc[0]))\n",
    "    return tuple([r[el].iloc[0] for el in list_attrs_output] + rest_list)\n",
    "\n",
    "@app.callback([\n",
    "    Output('nomeCompleto', 'children'),\n",
    "    Output('img', 'src'),\n",
    "    Output('Partido', 'children'),\n",
    "    Output('nrCandidato', 'children'),\n",
    "    Output('nrPartido', 'children'),\n",
    "    Output('Idade', 'children'),\n",
    "    Output('Ocupação', 'children'),\n",
    "    Output('Cor/Raça', 'children'),\n",
    "    Output('Estado Civil', 'children'),\n",
    "    # part 2\n",
    "    Output('Município de nascimento', 'children'),\n",
    "    Output('Grau de instrução', 'children'),\n",
    "    Output('eleito', 'children'),\n",
    "    Output('BensDeclarados', 'children'),\n",
    "    # part3\n",
    "    Output('rank_votes', 'children'),\n",
    "    Output('rank_bens', 'children'),\n",
    "    Output('rank_campanha', 'children'),\n",
    "    # later data\n",
    "    Output('totalRecebido', 'children'),\n",
    "    Output('votes', 'children')],\n",
    "    # Input\n",
    "    Input('deputado-dropdown', 'value') )\n",
    "def chose_deputado(deputado_name):\n",
    "    global df_temp_city\n",
    "    df_temp_city = get_df_deputado_city(deputado_name)\n",
    "    df_temp_city['porcentagem'] = df_temp_city['percentage'].apply(lambda x: float(x.replace(',','.').replace('%','')))\n",
    "    return get_deputado_info(deputado_name)\n",
    "\n",
    "\n",
    "@app.callback(\n",
    "    Output('map-votes-number', 'figure'),\n",
    "    Output('bar-votes-number', 'figure'),\n",
    "    Input('nomeCompleto', 'children') )\n",
    "def update_map_votes_number(nome_deputado):\n",
    "    global df_temp_city\n",
    "    figre = plotly_map_plot(\n",
    "        df_temp_city, coly='votes', pretitle='Qtd Votos',\n",
    "        hover_data=['percentage','totalVotes'] \n",
    "    )\n",
    "    fig2re = plotly_bar_plot(\n",
    "        df_temp_city, colx='cidade', coly='votes', col_text='votes',\n",
    "        hover_data=['votes', 'percentage', 'totalVotes', 'eleito'] \n",
    "    )\n",
    "    return figre, fig2re\n",
    "\n",
    "@app.callback(\n",
    "    Output('map-percentage', 'figure'),\n",
    "    Output('bar-percentage', 'figure'),\n",
    "    Input('nomeCompleto', 'children'))\n",
    "def update_map_votes_percentage(nome_deputado):\n",
    "    global df_temp_city\n",
    "    figre4 = plotly_map_plot(\n",
    "        df_temp_city, coly='porcentagem', pretitle='Porcentagem Votos',\n",
    "        hover_data=['percentage','votes'] \n",
    "    )\n",
    "    fig_bar = plotly_bar_plot(\n",
    "        df_temp_city, 'cidade', 'porcentagem',\n",
    "        'percentage', hover_data=['votes', 'percentage']\n",
    "    )\n",
    "    return figre4, fig_bar\n",
    "\n",
    "# END\n",
    "app.run_server(mode='inline', debug=True, port=8056) #access http://localhost:8056/"
   ]
  },
  {
   "cell_type": "markdown",
   "id": "1eeb1dd8",
   "metadata": {},
   "source": [
    "# Gráficos\n",
    "\n",
    "## BarPlot de votes e percentage votes"
   ]
  },
  {
   "cell_type": "code",
   "execution_count": 82,
   "id": "ab6cc5c7",
   "metadata": {
    "ExecuteTime": {
     "end_time": "2022-05-13T23:37:18.340071Z",
     "start_time": "2022-05-13T23:37:18.155639Z"
    }
   },
   "outputs": [
    {
     "data": {
      "application/vnd.plotly.v1+json": {
       "config": {
        "plotlyServerURL": "https://plot.ly"
       },
       "data": [
        {
         "alignmentgroup": "True",
         "hovertemplate": "cidade=%{x}<br>porcentagem=%{y}<br>percentage=%{text}<extra></extra>",
         "legendgroup": "",
         "marker": {
          "color": "#deb439",
          "pattern": {
           "shape": ""
          }
         },
         "name": "",
         "offsetgroup": "",
         "orientation": "v",
         "showlegend": false,
         "text": [
          "7,51%",
          "5,82%",
          "4,36%",
          "35,22%",
          "2,38%",
          "12,47%",
          "1,33%",
          "1,14%",
          "0,89%",
          "0,71%"
         ],
         "textposition": "auto",
         "type": "bar",
         "x": [
          "Itapebi",
          "Porto Seguro",
          "Guaratinga",
          "Eunápolis",
          "Itagimirim",
          "Itabela",
          "Teixeira de Freitas",
          "Santa Cruz Cabrália",
          "Belmonte",
          "Itamaraju"
         ],
         "xaxis": "x",
         "y": [
          7.51,
          5.82,
          4.36,
          35.22,
          2.38,
          12.47,
          1.33,
          1.14,
          0.89,
          0.71
         ],
         "yaxis": "y"
        }
       ],
       "layout": {
        "barmode": "relative",
        "legend": {
         "tracegroupgap": 0
        },
        "margin": {
         "t": 60
        },
        "template": {
         "data": {
          "bar": [
           {
            "error_x": {
             "color": "#f2f5fa"
            },
            "error_y": {
             "color": "#f2f5fa"
            },
            "marker": {
             "line": {
              "color": "rgb(17,17,17)",
              "width": 0.5
             },
             "pattern": {
              "fillmode": "overlay",
              "size": 10,
              "solidity": 0.2
             }
            },
            "type": "bar"
           }
          ],
          "barpolar": [
           {
            "marker": {
             "line": {
              "color": "rgb(17,17,17)",
              "width": 0.5
             },
             "pattern": {
              "fillmode": "overlay",
              "size": 10,
              "solidity": 0.2
             }
            },
            "type": "barpolar"
           }
          ],
          "carpet": [
           {
            "aaxis": {
             "endlinecolor": "#A2B1C6",
             "gridcolor": "#506784",
             "linecolor": "#506784",
             "minorgridcolor": "#506784",
             "startlinecolor": "#A2B1C6"
            },
            "baxis": {
             "endlinecolor": "#A2B1C6",
             "gridcolor": "#506784",
             "linecolor": "#506784",
             "minorgridcolor": "#506784",
             "startlinecolor": "#A2B1C6"
            },
            "type": "carpet"
           }
          ],
          "choropleth": [
           {
            "colorbar": {
             "outlinewidth": 0,
             "ticks": ""
            },
            "type": "choropleth"
           }
          ],
          "contour": [
           {
            "colorbar": {
             "outlinewidth": 0,
             "ticks": ""
            },
            "colorscale": [
             [
              0,
              "#0d0887"
             ],
             [
              0.1111111111111111,
              "#46039f"
             ],
             [
              0.2222222222222222,
              "#7201a8"
             ],
             [
              0.3333333333333333,
              "#9c179e"
             ],
             [
              0.4444444444444444,
              "#bd3786"
             ],
             [
              0.5555555555555556,
              "#d8576b"
             ],
             [
              0.6666666666666666,
              "#ed7953"
             ],
             [
              0.7777777777777778,
              "#fb9f3a"
             ],
             [
              0.8888888888888888,
              "#fdca26"
             ],
             [
              1,
              "#f0f921"
             ]
            ],
            "type": "contour"
           }
          ],
          "contourcarpet": [
           {
            "colorbar": {
             "outlinewidth": 0,
             "ticks": ""
            },
            "type": "contourcarpet"
           }
          ],
          "heatmap": [
           {
            "colorbar": {
             "outlinewidth": 0,
             "ticks": ""
            },
            "colorscale": [
             [
              0,
              "#0d0887"
             ],
             [
              0.1111111111111111,
              "#46039f"
             ],
             [
              0.2222222222222222,
              "#7201a8"
             ],
             [
              0.3333333333333333,
              "#9c179e"
             ],
             [
              0.4444444444444444,
              "#bd3786"
             ],
             [
              0.5555555555555556,
              "#d8576b"
             ],
             [
              0.6666666666666666,
              "#ed7953"
             ],
             [
              0.7777777777777778,
              "#fb9f3a"
             ],
             [
              0.8888888888888888,
              "#fdca26"
             ],
             [
              1,
              "#f0f921"
             ]
            ],
            "type": "heatmap"
           }
          ],
          "heatmapgl": [
           {
            "colorbar": {
             "outlinewidth": 0,
             "ticks": ""
            },
            "colorscale": [
             [
              0,
              "#0d0887"
             ],
             [
              0.1111111111111111,
              "#46039f"
             ],
             [
              0.2222222222222222,
              "#7201a8"
             ],
             [
              0.3333333333333333,
              "#9c179e"
             ],
             [
              0.4444444444444444,
              "#bd3786"
             ],
             [
              0.5555555555555556,
              "#d8576b"
             ],
             [
              0.6666666666666666,
              "#ed7953"
             ],
             [
              0.7777777777777778,
              "#fb9f3a"
             ],
             [
              0.8888888888888888,
              "#fdca26"
             ],
             [
              1,
              "#f0f921"
             ]
            ],
            "type": "heatmapgl"
           }
          ],
          "histogram": [
           {
            "marker": {
             "pattern": {
              "fillmode": "overlay",
              "size": 10,
              "solidity": 0.2
             }
            },
            "type": "histogram"
           }
          ],
          "histogram2d": [
           {
            "colorbar": {
             "outlinewidth": 0,
             "ticks": ""
            },
            "colorscale": [
             [
              0,
              "#0d0887"
             ],
             [
              0.1111111111111111,
              "#46039f"
             ],
             [
              0.2222222222222222,
              "#7201a8"
             ],
             [
              0.3333333333333333,
              "#9c179e"
             ],
             [
              0.4444444444444444,
              "#bd3786"
             ],
             [
              0.5555555555555556,
              "#d8576b"
             ],
             [
              0.6666666666666666,
              "#ed7953"
             ],
             [
              0.7777777777777778,
              "#fb9f3a"
             ],
             [
              0.8888888888888888,
              "#fdca26"
             ],
             [
              1,
              "#f0f921"
             ]
            ],
            "type": "histogram2d"
           }
          ],
          "histogram2dcontour": [
           {
            "colorbar": {
             "outlinewidth": 0,
             "ticks": ""
            },
            "colorscale": [
             [
              0,
              "#0d0887"
             ],
             [
              0.1111111111111111,
              "#46039f"
             ],
             [
              0.2222222222222222,
              "#7201a8"
             ],
             [
              0.3333333333333333,
              "#9c179e"
             ],
             [
              0.4444444444444444,
              "#bd3786"
             ],
             [
              0.5555555555555556,
              "#d8576b"
             ],
             [
              0.6666666666666666,
              "#ed7953"
             ],
             [
              0.7777777777777778,
              "#fb9f3a"
             ],
             [
              0.8888888888888888,
              "#fdca26"
             ],
             [
              1,
              "#f0f921"
             ]
            ],
            "type": "histogram2dcontour"
           }
          ],
          "mesh3d": [
           {
            "colorbar": {
             "outlinewidth": 0,
             "ticks": ""
            },
            "type": "mesh3d"
           }
          ],
          "parcoords": [
           {
            "line": {
             "colorbar": {
              "outlinewidth": 0,
              "ticks": ""
             }
            },
            "type": "parcoords"
           }
          ],
          "pie": [
           {
            "automargin": true,
            "type": "pie"
           }
          ],
          "scatter": [
           {
            "marker": {
             "line": {
              "color": "#002b36"
             }
            },
            "type": "scatter"
           }
          ],
          "scatter3d": [
           {
            "line": {
             "colorbar": {
              "outlinewidth": 0,
              "ticks": ""
             }
            },
            "marker": {
             "colorbar": {
              "outlinewidth": 0,
              "ticks": ""
             }
            },
            "type": "scatter3d"
           }
          ],
          "scattercarpet": [
           {
            "marker": {
             "colorbar": {
              "outlinewidth": 0,
              "ticks": ""
             }
            },
            "type": "scattercarpet"
           }
          ],
          "scattergeo": [
           {
            "marker": {
             "colorbar": {
              "outlinewidth": 0,
              "ticks": ""
             }
            },
            "type": "scattergeo"
           }
          ],
          "scattergl": [
           {
            "marker": {
             "line": {
              "color": "#002b36"
             }
            },
            "type": "scattergl"
           }
          ],
          "scattermapbox": [
           {
            "marker": {
             "colorbar": {
              "outlinewidth": 0,
              "ticks": ""
             }
            },
            "type": "scattermapbox"
           }
          ],
          "scatterpolar": [
           {
            "marker": {
             "colorbar": {
              "outlinewidth": 0,
              "ticks": ""
             }
            },
            "type": "scatterpolar"
           }
          ],
          "scatterpolargl": [
           {
            "marker": {
             "colorbar": {
              "outlinewidth": 0,
              "ticks": ""
             }
            },
            "type": "scatterpolargl"
           }
          ],
          "scatterternary": [
           {
            "marker": {
             "colorbar": {
              "outlinewidth": 0,
              "ticks": ""
             }
            },
            "type": "scatterternary"
           }
          ],
          "surface": [
           {
            "colorbar": {
             "outlinewidth": 0,
             "ticks": ""
            },
            "colorscale": [
             [
              0,
              "#0d0887"
             ],
             [
              0.1111111111111111,
              "#46039f"
             ],
             [
              0.2222222222222222,
              "#7201a8"
             ],
             [
              0.3333333333333333,
              "#9c179e"
             ],
             [
              0.4444444444444444,
              "#bd3786"
             ],
             [
              0.5555555555555556,
              "#d8576b"
             ],
             [
              0.6666666666666666,
              "#ed7953"
             ],
             [
              0.7777777777777778,
              "#fb9f3a"
             ],
             [
              0.8888888888888888,
              "#fdca26"
             ],
             [
              1,
              "#f0f921"
             ]
            ],
            "type": "surface"
           }
          ],
          "table": [
           {
            "cells": {
             "fill": {
              "color": "#506784"
             },
             "line": {
              "color": "rgb(17,17,17)"
             }
            },
            "header": {
             "fill": {
              "color": "#2a3f5f"
             },
             "line": {
              "color": "rgb(17,17,17)"
             }
            },
            "type": "table"
           }
          ]
         },
         "layout": {
          "annotationdefaults": {
           "arrowcolor": "#f2f5fa",
           "arrowhead": 0,
           "arrowwidth": 1
          },
          "autotypenumbers": "strict",
          "coloraxis": {
           "colorbar": {
            "outlinewidth": 0,
            "ticks": ""
           }
          },
          "colorscale": {
           "diverging": [
            [
             0,
             "#8e0152"
            ],
            [
             0.1,
             "#c51b7d"
            ],
            [
             0.2,
             "#de77ae"
            ],
            [
             0.3,
             "#f1b6da"
            ],
            [
             0.4,
             "#fde0ef"
            ],
            [
             0.5,
             "#f7f7f7"
            ],
            [
             0.6,
             "#e6f5d0"
            ],
            [
             0.7,
             "#b8e186"
            ],
            [
             0.8,
             "#7fbc41"
            ],
            [
             0.9,
             "#4d9221"
            ],
            [
             1,
             "#276419"
            ]
           ],
           "sequential": [
            [
             0,
             "#b58900"
            ],
            [
             0.1,
             "#be8712"
            ],
            [
             0.2,
             "#c78425"
            ],
            [
             0.30000000000000004,
             "#d08237"
            ],
            [
             0.4,
             "#d97f49"
            ],
            [
             0.5,
             "#e27d5c"
            ],
            [
             0.6000000000000001,
             "#eb7a6e"
            ],
            [
             0.7000000000000001,
             "#f47881"
            ],
            [
             0.8,
             "#fd7593"
            ],
            [
             0.9,
             "#ff73a5"
            ],
            [
             1,
             "#ff70b8"
            ]
           ],
           "sequentialminus": [
            [
             0,
             "#0d0887"
            ],
            [
             0.1111111111111111,
             "#46039f"
            ],
            [
             0.2222222222222222,
             "#7201a8"
            ],
            [
             0.3333333333333333,
             "#9c179e"
            ],
            [
             0.4444444444444444,
             "#bd3786"
            ],
            [
             0.5555555555555556,
             "#d8576b"
            ],
            [
             0.6666666666666666,
             "#ed7953"
            ],
            [
             0.7777777777777778,
             "#fb9f3a"
            ],
            [
             0.8888888888888888,
             "#fdca26"
            ],
            [
             1,
             "#f0f921"
            ]
           ]
          },
          "colorway": [
           "#deb439",
           "#db3d8b",
           "#1cb04a",
           "#b63c07",
           "#4a89d2"
          ],
          "font": {
           "color": "#839496",
           "family": "\"Source Sans Pro\",-apple-system,BlinkMacSystemFont,\"Segoe UI\",Roboto,\"Helvetica Neue\",Arial,sans-serif,\"Apple Color Emoji\",\"Segoe UI Emoji\",\"Segoe UI Symbol\""
          },
          "geo": {
           "bgcolor": "#002b36",
           "lakecolor": "#002b36",
           "landcolor": "#002b36",
           "showlakes": true,
           "showland": true,
           "subunitcolor": "#506784"
          },
          "hoverlabel": {
           "align": "left"
          },
          "hovermode": "closest",
          "mapbox": {
           "style": "dark"
          },
          "margin": {
           "b": 0,
           "l": 0,
           "r": 0
          },
          "paper_bgcolor": "#1e434a",
          "piecolorway": [
           "#deb439",
           "#db3d8b",
           "#1cb04a",
           "#b63c07",
           "#4a89d2"
          ],
          "plot_bgcolor": "#002b36",
          "polar": {
           "angularaxis": {
            "gridcolor": "#506784",
            "linecolor": "#506784",
            "ticks": ""
           },
           "bgcolor": "rgb(17,17,17)",
           "radialaxis": {
            "gridcolor": "#506784",
            "linecolor": "#506784",
            "ticks": ""
           }
          },
          "scene": {
           "xaxis": {
            "backgroundcolor": "rgb(17,17,17)",
            "gridcolor": "#506784",
            "gridwidth": 2,
            "linecolor": "#506784",
            "showbackground": true,
            "ticks": "",
            "zerolinecolor": "#C8D4E3"
           },
           "yaxis": {
            "backgroundcolor": "rgb(17,17,17)",
            "gridcolor": "#506784",
            "gridwidth": 2,
            "linecolor": "#506784",
            "showbackground": true,
            "ticks": "",
            "zerolinecolor": "#C8D4E3"
           },
           "zaxis": {
            "backgroundcolor": "rgb(17,17,17)",
            "gridcolor": "#506784",
            "gridwidth": 2,
            "linecolor": "#506784",
            "showbackground": true,
            "ticks": "",
            "zerolinecolor": "#C8D4E3"
           }
          },
          "shapedefaults": {
           "line": {
            "color": "#f2f5fa"
           }
          },
          "sliderdefaults": {
           "bgcolor": "#C8D4E3",
           "bordercolor": "rgb(17,17,17)",
           "borderwidth": 1,
           "tickwidth": 0
          },
          "ternary": {
           "aaxis": {
            "gridcolor": "#506784",
            "linecolor": "#506784",
            "ticks": ""
           },
           "baxis": {
            "gridcolor": "#506784",
            "linecolor": "#506784",
            "ticks": ""
           },
           "bgcolor": "rgb(17,17,17)",
           "caxis": {
            "gridcolor": "#506784",
            "linecolor": "#506784",
            "ticks": ""
           }
          },
          "title": {
           "x": 0.05
          },
          "updatemenudefaults": {
           "bgcolor": "#506784",
           "borderwidth": 0
          },
          "xaxis": {
           "automargin": true,
           "gridcolor": "#0a333e",
           "gridwidth": 0.5,
           "linecolor": "#506784",
           "ticks": "",
           "title": {
            "standoff": 15
           },
           "zerolinecolor": "#0a333e",
           "zerolinewidth": 2
          },
          "yaxis": {
           "automargin": true,
           "gridcolor": "#0a333e",
           "gridwidth": 0.5,
           "linecolor": "#506784",
           "ticks": "",
           "title": {
            "standoff": 15
           },
           "zerolinecolor": "#0a333e",
           "zerolinewidth": 2
          }
         }
        },
        "xaxis": {
         "anchor": "y",
         "domain": [
          0,
          1
         ],
         "title": {
          "text": "cidade"
         }
        },
        "yaxis": {
         "anchor": "x",
         "domain": [
          0,
          1
         ],
         "title": {
          "text": "porcentagem"
         }
        }
       }
      },
      "text/html": [
       "<div>                            <div id=\"74cb2514-15fc-45bb-8a28-744d462cf2a6\" class=\"plotly-graph-div\" style=\"height:525px; width:100%;\"></div>            <script type=\"text/javascript\">                require([\"plotly\"], function(Plotly) {                    window.PLOTLYENV=window.PLOTLYENV || {};                                    if (document.getElementById(\"74cb2514-15fc-45bb-8a28-744d462cf2a6\")) {                    Plotly.newPlot(                        \"74cb2514-15fc-45bb-8a28-744d462cf2a6\",                        [{\"alignmentgroup\":\"True\",\"hovertemplate\":\"cidade=%{x}<br>porcentagem=%{y}<br>percentage=%{text}<extra></extra>\",\"legendgroup\":\"\",\"marker\":{\"color\":\"#deb439\",\"pattern\":{\"shape\":\"\"}},\"name\":\"\",\"offsetgroup\":\"\",\"orientation\":\"v\",\"showlegend\":false,\"text\":[\"7,51%\",\"5,82%\",\"4,36%\",\"35,22%\",\"2,38%\",\"12,47%\",\"1,33%\",\"1,14%\",\"0,89%\",\"0,71%\"],\"textposition\":\"auto\",\"x\":[\"Itapebi\",\"Porto Seguro\",\"Guaratinga\",\"Eun\\u00e1polis\",\"Itagimirim\",\"Itabela\",\"Teixeira de Freitas\",\"Santa Cruz Cabr\\u00e1lia\",\"Belmonte\",\"Itamaraju\"],\"xaxis\":\"x\",\"y\":[7.51,5.82,4.36,35.22,2.38,12.47,1.33,1.14,0.89,0.71],\"yaxis\":\"y\",\"type\":\"bar\"}],                        {\"template\":{\"data\":{\"barpolar\":[{\"marker\":{\"line\":{\"color\":\"rgb(17,17,17)\",\"width\":0.5},\"pattern\":{\"fillmode\":\"overlay\",\"size\":10,\"solidity\":0.2}},\"type\":\"barpolar\"}],\"bar\":[{\"error_x\":{\"color\":\"#f2f5fa\"},\"error_y\":{\"color\":\"#f2f5fa\"},\"marker\":{\"line\":{\"color\":\"rgb(17,17,17)\",\"width\":0.5},\"pattern\":{\"fillmode\":\"overlay\",\"size\":10,\"solidity\":0.2}},\"type\":\"bar\"}],\"carpet\":[{\"aaxis\":{\"endlinecolor\":\"#A2B1C6\",\"gridcolor\":\"#506784\",\"linecolor\":\"#506784\",\"minorgridcolor\":\"#506784\",\"startlinecolor\":\"#A2B1C6\"},\"baxis\":{\"endlinecolor\":\"#A2B1C6\",\"gridcolor\":\"#506784\",\"linecolor\":\"#506784\",\"minorgridcolor\":\"#506784\",\"startlinecolor\":\"#A2B1C6\"},\"type\":\"carpet\"}],\"choropleth\":[{\"colorbar\":{\"outlinewidth\":0,\"ticks\":\"\"},\"type\":\"choropleth\"}],\"contourcarpet\":[{\"colorbar\":{\"outlinewidth\":0,\"ticks\":\"\"},\"type\":\"contourcarpet\"}],\"contour\":[{\"colorbar\":{\"outlinewidth\":0,\"ticks\":\"\"},\"colorscale\":[[0.0,\"#0d0887\"],[0.1111111111111111,\"#46039f\"],[0.2222222222222222,\"#7201a8\"],[0.3333333333333333,\"#9c179e\"],[0.4444444444444444,\"#bd3786\"],[0.5555555555555556,\"#d8576b\"],[0.6666666666666666,\"#ed7953\"],[0.7777777777777778,\"#fb9f3a\"],[0.8888888888888888,\"#fdca26\"],[1.0,\"#f0f921\"]],\"type\":\"contour\"}],\"heatmapgl\":[{\"colorbar\":{\"outlinewidth\":0,\"ticks\":\"\"},\"colorscale\":[[0.0,\"#0d0887\"],[0.1111111111111111,\"#46039f\"],[0.2222222222222222,\"#7201a8\"],[0.3333333333333333,\"#9c179e\"],[0.4444444444444444,\"#bd3786\"],[0.5555555555555556,\"#d8576b\"],[0.6666666666666666,\"#ed7953\"],[0.7777777777777778,\"#fb9f3a\"],[0.8888888888888888,\"#fdca26\"],[1.0,\"#f0f921\"]],\"type\":\"heatmapgl\"}],\"heatmap\":[{\"colorbar\":{\"outlinewidth\":0,\"ticks\":\"\"},\"colorscale\":[[0.0,\"#0d0887\"],[0.1111111111111111,\"#46039f\"],[0.2222222222222222,\"#7201a8\"],[0.3333333333333333,\"#9c179e\"],[0.4444444444444444,\"#bd3786\"],[0.5555555555555556,\"#d8576b\"],[0.6666666666666666,\"#ed7953\"],[0.7777777777777778,\"#fb9f3a\"],[0.8888888888888888,\"#fdca26\"],[1.0,\"#f0f921\"]],\"type\":\"heatmap\"}],\"histogram2dcontour\":[{\"colorbar\":{\"outlinewidth\":0,\"ticks\":\"\"},\"colorscale\":[[0.0,\"#0d0887\"],[0.1111111111111111,\"#46039f\"],[0.2222222222222222,\"#7201a8\"],[0.3333333333333333,\"#9c179e\"],[0.4444444444444444,\"#bd3786\"],[0.5555555555555556,\"#d8576b\"],[0.6666666666666666,\"#ed7953\"],[0.7777777777777778,\"#fb9f3a\"],[0.8888888888888888,\"#fdca26\"],[1.0,\"#f0f921\"]],\"type\":\"histogram2dcontour\"}],\"histogram2d\":[{\"colorbar\":{\"outlinewidth\":0,\"ticks\":\"\"},\"colorscale\":[[0.0,\"#0d0887\"],[0.1111111111111111,\"#46039f\"],[0.2222222222222222,\"#7201a8\"],[0.3333333333333333,\"#9c179e\"],[0.4444444444444444,\"#bd3786\"],[0.5555555555555556,\"#d8576b\"],[0.6666666666666666,\"#ed7953\"],[0.7777777777777778,\"#fb9f3a\"],[0.8888888888888888,\"#fdca26\"],[1.0,\"#f0f921\"]],\"type\":\"histogram2d\"}],\"histogram\":[{\"marker\":{\"pattern\":{\"fillmode\":\"overlay\",\"size\":10,\"solidity\":0.2}},\"type\":\"histogram\"}],\"mesh3d\":[{\"colorbar\":{\"outlinewidth\":0,\"ticks\":\"\"},\"type\":\"mesh3d\"}],\"parcoords\":[{\"line\":{\"colorbar\":{\"outlinewidth\":0,\"ticks\":\"\"}},\"type\":\"parcoords\"}],\"pie\":[{\"automargin\":true,\"type\":\"pie\"}],\"scatter3d\":[{\"line\":{\"colorbar\":{\"outlinewidth\":0,\"ticks\":\"\"}},\"marker\":{\"colorbar\":{\"outlinewidth\":0,\"ticks\":\"\"}},\"type\":\"scatter3d\"}],\"scattercarpet\":[{\"marker\":{\"colorbar\":{\"outlinewidth\":0,\"ticks\":\"\"}},\"type\":\"scattercarpet\"}],\"scattergeo\":[{\"marker\":{\"colorbar\":{\"outlinewidth\":0,\"ticks\":\"\"}},\"type\":\"scattergeo\"}],\"scattergl\":[{\"marker\":{\"line\":{\"color\":\"#002b36\"}},\"type\":\"scattergl\"}],\"scattermapbox\":[{\"marker\":{\"colorbar\":{\"outlinewidth\":0,\"ticks\":\"\"}},\"type\":\"scattermapbox\"}],\"scatterpolargl\":[{\"marker\":{\"colorbar\":{\"outlinewidth\":0,\"ticks\":\"\"}},\"type\":\"scatterpolargl\"}],\"scatterpolar\":[{\"marker\":{\"colorbar\":{\"outlinewidth\":0,\"ticks\":\"\"}},\"type\":\"scatterpolar\"}],\"scatter\":[{\"marker\":{\"line\":{\"color\":\"#002b36\"}},\"type\":\"scatter\"}],\"scatterternary\":[{\"marker\":{\"colorbar\":{\"outlinewidth\":0,\"ticks\":\"\"}},\"type\":\"scatterternary\"}],\"surface\":[{\"colorbar\":{\"outlinewidth\":0,\"ticks\":\"\"},\"colorscale\":[[0.0,\"#0d0887\"],[0.1111111111111111,\"#46039f\"],[0.2222222222222222,\"#7201a8\"],[0.3333333333333333,\"#9c179e\"],[0.4444444444444444,\"#bd3786\"],[0.5555555555555556,\"#d8576b\"],[0.6666666666666666,\"#ed7953\"],[0.7777777777777778,\"#fb9f3a\"],[0.8888888888888888,\"#fdca26\"],[1.0,\"#f0f921\"]],\"type\":\"surface\"}],\"table\":[{\"cells\":{\"fill\":{\"color\":\"#506784\"},\"line\":{\"color\":\"rgb(17,17,17)\"}},\"header\":{\"fill\":{\"color\":\"#2a3f5f\"},\"line\":{\"color\":\"rgb(17,17,17)\"}},\"type\":\"table\"}]},\"layout\":{\"annotationdefaults\":{\"arrowcolor\":\"#f2f5fa\",\"arrowhead\":0,\"arrowwidth\":1},\"autotypenumbers\":\"strict\",\"coloraxis\":{\"colorbar\":{\"outlinewidth\":0,\"ticks\":\"\"}},\"colorscale\":{\"diverging\":[[0,\"#8e0152\"],[0.1,\"#c51b7d\"],[0.2,\"#de77ae\"],[0.3,\"#f1b6da\"],[0.4,\"#fde0ef\"],[0.5,\"#f7f7f7\"],[0.6,\"#e6f5d0\"],[0.7,\"#b8e186\"],[0.8,\"#7fbc41\"],[0.9,\"#4d9221\"],[1,\"#276419\"]],\"sequential\":[[0.0,\"#b58900\"],[0.1,\"#be8712\"],[0.2,\"#c78425\"],[0.30000000000000004,\"#d08237\"],[0.4,\"#d97f49\"],[0.5,\"#e27d5c\"],[0.6000000000000001,\"#eb7a6e\"],[0.7000000000000001,\"#f47881\"],[0.8,\"#fd7593\"],[0.9,\"#ff73a5\"],[1.0,\"#ff70b8\"]],\"sequentialminus\":[[0.0,\"#0d0887\"],[0.1111111111111111,\"#46039f\"],[0.2222222222222222,\"#7201a8\"],[0.3333333333333333,\"#9c179e\"],[0.4444444444444444,\"#bd3786\"],[0.5555555555555556,\"#d8576b\"],[0.6666666666666666,\"#ed7953\"],[0.7777777777777778,\"#fb9f3a\"],[0.8888888888888888,\"#fdca26\"],[1.0,\"#f0f921\"]]},\"colorway\":[\"#deb439\",\"#db3d8b\",\"#1cb04a\",\"#b63c07\",\"#4a89d2\"],\"font\":{\"color\":\"#839496\",\"family\":\"\\\"Source Sans Pro\\\",-apple-system,BlinkMacSystemFont,\\\"Segoe UI\\\",Roboto,\\\"Helvetica Neue\\\",Arial,sans-serif,\\\"Apple Color Emoji\\\",\\\"Segoe UI Emoji\\\",\\\"Segoe UI Symbol\\\"\"},\"geo\":{\"bgcolor\":\"#002b36\",\"lakecolor\":\"#002b36\",\"landcolor\":\"#002b36\",\"showlakes\":true,\"showland\":true,\"subunitcolor\":\"#506784\"},\"hoverlabel\":{\"align\":\"left\"},\"hovermode\":\"closest\",\"mapbox\":{\"style\":\"dark\"},\"margin\":{\"b\":0,\"l\":0,\"r\":0},\"paper_bgcolor\":\"#1e434a\",\"piecolorway\":[\"#deb439\",\"#db3d8b\",\"#1cb04a\",\"#b63c07\",\"#4a89d2\"],\"plot_bgcolor\":\"#002b36\",\"polar\":{\"angularaxis\":{\"gridcolor\":\"#506784\",\"linecolor\":\"#506784\",\"ticks\":\"\"},\"bgcolor\":\"rgb(17,17,17)\",\"radialaxis\":{\"gridcolor\":\"#506784\",\"linecolor\":\"#506784\",\"ticks\":\"\"}},\"scene\":{\"xaxis\":{\"backgroundcolor\":\"rgb(17,17,17)\",\"gridcolor\":\"#506784\",\"gridwidth\":2,\"linecolor\":\"#506784\",\"showbackground\":true,\"ticks\":\"\",\"zerolinecolor\":\"#C8D4E3\"},\"yaxis\":{\"backgroundcolor\":\"rgb(17,17,17)\",\"gridcolor\":\"#506784\",\"gridwidth\":2,\"linecolor\":\"#506784\",\"showbackground\":true,\"ticks\":\"\",\"zerolinecolor\":\"#C8D4E3\"},\"zaxis\":{\"backgroundcolor\":\"rgb(17,17,17)\",\"gridcolor\":\"#506784\",\"gridwidth\":2,\"linecolor\":\"#506784\",\"showbackground\":true,\"ticks\":\"\",\"zerolinecolor\":\"#C8D4E3\"}},\"shapedefaults\":{\"line\":{\"color\":\"#f2f5fa\"}},\"sliderdefaults\":{\"bgcolor\":\"#C8D4E3\",\"bordercolor\":\"rgb(17,17,17)\",\"borderwidth\":1,\"tickwidth\":0},\"ternary\":{\"aaxis\":{\"gridcolor\":\"#506784\",\"linecolor\":\"#506784\",\"ticks\":\"\"},\"baxis\":{\"gridcolor\":\"#506784\",\"linecolor\":\"#506784\",\"ticks\":\"\"},\"bgcolor\":\"rgb(17,17,17)\",\"caxis\":{\"gridcolor\":\"#506784\",\"linecolor\":\"#506784\",\"ticks\":\"\"}},\"title\":{\"x\":0.05},\"updatemenudefaults\":{\"bgcolor\":\"#506784\",\"borderwidth\":0},\"xaxis\":{\"automargin\":true,\"gridcolor\":\"#0a333e\",\"gridwidth\":0.5,\"linecolor\":\"#506784\",\"ticks\":\"\",\"title\":{\"standoff\":15},\"zerolinecolor\":\"#0a333e\",\"zerolinewidth\":2},\"yaxis\":{\"automargin\":true,\"gridcolor\":\"#0a333e\",\"gridwidth\":0.5,\"linecolor\":\"#506784\",\"ticks\":\"\",\"title\":{\"standoff\":15},\"zerolinecolor\":\"#0a333e\",\"zerolinewidth\":2}}},\"xaxis\":{\"anchor\":\"y\",\"domain\":[0.0,1.0],\"title\":{\"text\":\"cidade\"}},\"yaxis\":{\"anchor\":\"x\",\"domain\":[0.0,1.0],\"title\":{\"text\":\"porcentagem\"}},\"legend\":{\"tracegroupgap\":0},\"margin\":{\"t\":60},\"barmode\":\"relative\"},                        {\"responsive\": true}                    ).then(function(){\n",
       "                            \n",
       "var gd = document.getElementById('74cb2514-15fc-45bb-8a28-744d462cf2a6');\n",
       "var x = new MutationObserver(function (mutations, observer) {{\n",
       "        var display = window.getComputedStyle(gd).display;\n",
       "        if (!display || display === 'none') {{\n",
       "            console.log([gd, 'removed!']);\n",
       "            Plotly.purge(gd);\n",
       "            observer.disconnect();\n",
       "        }}\n",
       "}});\n",
       "\n",
       "// Listen for the removal of the full notebook cells\n",
       "var notebookContainer = gd.closest('#notebook-container');\n",
       "if (notebookContainer) {{\n",
       "    x.observe(notebookContainer, {childList: true});\n",
       "}}\n",
       "\n",
       "// Listen for the clearing of the current output cell\n",
       "var outputEl = gd.closest('.output');\n",
       "if (outputEl) {{\n",
       "    x.observe(outputEl, {childList: true});\n",
       "}}\n",
       "\n",
       "                        })                };                });            </script>        </div>"
      ]
     },
     "metadata": {},
     "output_type": "display_data"
    }
   ],
   "source": [
    "import plotly.express as px\n",
    "\n",
    "fig = px.bar(df_temp_city.sort_values('percentage', ascending=False).head(10),\n",
    "             x='cidade',\n",
    "             y='porcentagem',\n",
    "            text='percentage')\n",
    "fig.show()"
   ]
  },
  {
   "cell_type": "code",
   "execution_count": 31,
   "id": "4cea7fdc",
   "metadata": {
    "ExecuteTime": {
     "end_time": "2022-05-13T21:19:55.752410Z",
     "start_time": "2022-05-13T21:19:55.699446Z"
    }
   },
   "outputs": [
    {
     "data": {
      "text/html": [
       "<div>\n",
       "<style scoped>\n",
       "    .dataframe tbody tr th:only-of-type {\n",
       "        vertical-align: middle;\n",
       "    }\n",
       "\n",
       "    .dataframe tbody tr th {\n",
       "        vertical-align: top;\n",
       "    }\n",
       "\n",
       "    .dataframe thead th {\n",
       "        text-align: right;\n",
       "    }\n",
       "</style>\n",
       "<table border=\"1\" class=\"dataframe\">\n",
       "  <thead>\n",
       "    <tr style=\"text-align: right;\">\n",
       "      <th></th>\n",
       "      <th>nrPartido</th>\n",
       "      <th>nomePartido</th>\n",
       "      <th>siglaPartido</th>\n",
       "      <th>idCandidato</th>\n",
       "      <th>totalDespesasContratadas</th>\n",
       "      <th>totalDespesasPagas</th>\n",
       "      <th>totalRecebido</th>\n",
       "      <th>totalFinanceiro</th>\n",
       "      <th>idIBGE</th>\n",
       "      <th>nrCandidato</th>\n",
       "      <th>deputado_url</th>\n",
       "      <th>eleito</th>\n",
       "      <th>totalVotes</th>\n",
       "      <th>votes%</th>\n",
       "      <th>votes_by_city_url</th>\n",
       "      <th>img</th>\n",
       "      <th>nomeCompleto</th>\n",
       "      <th>desc</th>\n",
       "      <th>Nome na urna</th>\n",
       "      <th>Sexo</th>\n",
       "      <th>Idade</th>\n",
       "      <th>Data de nascimento</th>\n",
       "      <th>Ocupação</th>\n",
       "      <th>Grau de instrução</th>\n",
       "      <th>Estado Civil</th>\n",
       "      <th>Cor/Raça</th>\n",
       "      <th>Município de nascimento</th>\n",
       "      <th>Número</th>\n",
       "      <th>Situação da candidatura</th>\n",
       "      <th>Estado</th>\n",
       "      <th>Partido</th>\n",
       "      <th>Coligação</th>\n",
       "      <th>Composição</th>\n",
       "      <th>BensDeclarados</th>\n",
       "      <th>nr_candidato</th>\n",
       "      <th>deputado_nome</th>\n",
       "      <th>url_vote_deputado</th>\n",
       "      <th>url_the_city_votes</th>\n",
       "      <th>cidade</th>\n",
       "      <th>percentage</th>\n",
       "      <th>votes</th>\n",
       "      <th>percentage_float</th>\n",
       "    </tr>\n",
       "  </thead>\n",
       "  <tbody>\n",
       "    <tr>\n",
       "      <th>0</th>\n",
       "      <td>27</td>\n",
       "      <td>Democracia Cristã</td>\n",
       "      <td>DC</td>\n",
       "      <td>50000608128</td>\n",
       "      <td>7000.0000</td>\n",
       "      <td>7000.0000</td>\n",
       "      <td>7000.0000</td>\n",
       "      <td>7000.0000</td>\n",
       "      <td>50000608128</td>\n",
       "      <td>27003</td>\n",
       "      <td>adriana-neves-27003</td>\n",
       "      <td>Não foi eleita</td>\n",
       "      <td>195</td>\n",
       "      <td>0,00%</td>\n",
       "      <td>https://especiais.gazetadopovo.com.br/eleicoes...</td>\n",
       "      <td>https://cdn-eleicoes.gazetadopovo.com.br/fotos...</td>\n",
       "      <td>Adriana Neves Pereira dos Santos</td>\n",
       "      <td>Casado(a),  Administrador,       nascida  em 2...</td>\n",
       "      <td>Adriana Neves</td>\n",
       "      <td>Feminino</td>\n",
       "      <td>53 anos</td>\n",
       "      <td>26/09/1968</td>\n",
       "      <td>Administrador</td>\n",
       "      <td>Superior completo</td>\n",
       "      <td>Casado(a)</td>\n",
       "      <td>Branca</td>\n",
       "      <td>Belo Horizonte-BA</td>\n",
       "      <td>27003</td>\n",
       "      <td>Deferido</td>\n",
       "      <td>BAHIA</td>\n",
       "      <td>DC - Democracia Cristã</td>\n",
       "      <td>PRA MUDAR DE VERDADE</td>\n",
       "      <td>MDB / DC</td>\n",
       "      <td>R$ 575.735,00</td>\n",
       "      <td>27003</td>\n",
       "      <td>Adriana Neves</td>\n",
       "      <td>https://especiais.gazetadopovo.com.br/eleicoes...</td>\n",
       "      <td>https://especiais.gazetadopovo.com.br/eleicoes...</td>\n",
       "      <td>Santa Cruz da Vitória</td>\n",
       "      <td>0,35%</td>\n",
       "      <td>9</td>\n",
       "      <td>0.3500</td>\n",
       "    </tr>\n",
       "    <tr>\n",
       "      <th>1</th>\n",
       "      <td>27</td>\n",
       "      <td>Democracia Cristã</td>\n",
       "      <td>DC</td>\n",
       "      <td>50000608128</td>\n",
       "      <td>7000.0000</td>\n",
       "      <td>7000.0000</td>\n",
       "      <td>7000.0000</td>\n",
       "      <td>7000.0000</td>\n",
       "      <td>50000608128</td>\n",
       "      <td>27003</td>\n",
       "      <td>adriana-neves-27003</td>\n",
       "      <td>Não foi eleita</td>\n",
       "      <td>195</td>\n",
       "      <td>0,00%</td>\n",
       "      <td>https://especiais.gazetadopovo.com.br/eleicoes...</td>\n",
       "      <td>https://cdn-eleicoes.gazetadopovo.com.br/fotos...</td>\n",
       "      <td>Adriana Neves Pereira dos Santos</td>\n",
       "      <td>Casado(a),  Administrador,       nascida  em 2...</td>\n",
       "      <td>Adriana Neves</td>\n",
       "      <td>Feminino</td>\n",
       "      <td>53 anos</td>\n",
       "      <td>26/09/1968</td>\n",
       "      <td>Administrador</td>\n",
       "      <td>Superior completo</td>\n",
       "      <td>Casado(a)</td>\n",
       "      <td>Branca</td>\n",
       "      <td>Belo Horizonte-BA</td>\n",
       "      <td>27003</td>\n",
       "      <td>Deferido</td>\n",
       "      <td>BAHIA</td>\n",
       "      <td>DC - Democracia Cristã</td>\n",
       "      <td>PRA MUDAR DE VERDADE</td>\n",
       "      <td>MDB / DC</td>\n",
       "      <td>R$ 575.735,00</td>\n",
       "      <td>27003</td>\n",
       "      <td>Adriana Neves</td>\n",
       "      <td>https://especiais.gazetadopovo.com.br/eleicoes...</td>\n",
       "      <td>https://especiais.gazetadopovo.com.br/eleicoes...</td>\n",
       "      <td>Arataca</td>\n",
       "      <td>0,07%</td>\n",
       "      <td>3</td>\n",
       "      <td>0.0700</td>\n",
       "    </tr>\n",
       "    <tr>\n",
       "      <th>2</th>\n",
       "      <td>27</td>\n",
       "      <td>Democracia Cristã</td>\n",
       "      <td>DC</td>\n",
       "      <td>50000608128</td>\n",
       "      <td>7000.0000</td>\n",
       "      <td>7000.0000</td>\n",
       "      <td>7000.0000</td>\n",
       "      <td>7000.0000</td>\n",
       "      <td>50000608128</td>\n",
       "      <td>27003</td>\n",
       "      <td>adriana-neves-27003</td>\n",
       "      <td>Não foi eleita</td>\n",
       "      <td>195</td>\n",
       "      <td>0,00%</td>\n",
       "      <td>https://especiais.gazetadopovo.com.br/eleicoes...</td>\n",
       "      <td>https://cdn-eleicoes.gazetadopovo.com.br/fotos...</td>\n",
       "      <td>Adriana Neves Pereira dos Santos</td>\n",
       "      <td>Casado(a),  Administrador,       nascida  em 2...</td>\n",
       "      <td>Adriana Neves</td>\n",
       "      <td>Feminino</td>\n",
       "      <td>53 anos</td>\n",
       "      <td>26/09/1968</td>\n",
       "      <td>Administrador</td>\n",
       "      <td>Superior completo</td>\n",
       "      <td>Casado(a)</td>\n",
       "      <td>Branca</td>\n",
       "      <td>Belo Horizonte-BA</td>\n",
       "      <td>27003</td>\n",
       "      <td>Deferido</td>\n",
       "      <td>BAHIA</td>\n",
       "      <td>DC - Democracia Cristã</td>\n",
       "      <td>PRA MUDAR DE VERDADE</td>\n",
       "      <td>MDB / DC</td>\n",
       "      <td>R$ 575.735,00</td>\n",
       "      <td>27003</td>\n",
       "      <td>Adriana Neves</td>\n",
       "      <td>https://especiais.gazetadopovo.com.br/eleicoes...</td>\n",
       "      <td>https://especiais.gazetadopovo.com.br/eleicoes...</td>\n",
       "      <td>Itajuípe</td>\n",
       "      <td>0,06%</td>\n",
       "      <td>7</td>\n",
       "      <td>0.0600</td>\n",
       "    </tr>\n",
       "    <tr>\n",
       "      <th>3</th>\n",
       "      <td>27</td>\n",
       "      <td>Democracia Cristã</td>\n",
       "      <td>DC</td>\n",
       "      <td>50000608128</td>\n",
       "      <td>7000.0000</td>\n",
       "      <td>7000.0000</td>\n",
       "      <td>7000.0000</td>\n",
       "      <td>7000.0000</td>\n",
       "      <td>50000608128</td>\n",
       "      <td>27003</td>\n",
       "      <td>adriana-neves-27003</td>\n",
       "      <td>Não foi eleita</td>\n",
       "      <td>195</td>\n",
       "      <td>0,00%</td>\n",
       "      <td>https://especiais.gazetadopovo.com.br/eleicoes...</td>\n",
       "      <td>https://cdn-eleicoes.gazetadopovo.com.br/fotos...</td>\n",
       "      <td>Adriana Neves Pereira dos Santos</td>\n",
       "      <td>Casado(a),  Administrador,       nascida  em 2...</td>\n",
       "      <td>Adriana Neves</td>\n",
       "      <td>Feminino</td>\n",
       "      <td>53 anos</td>\n",
       "      <td>26/09/1968</td>\n",
       "      <td>Administrador</td>\n",
       "      <td>Superior completo</td>\n",
       "      <td>Casado(a)</td>\n",
       "      <td>Branca</td>\n",
       "      <td>Belo Horizonte-BA</td>\n",
       "      <td>27003</td>\n",
       "      <td>Deferido</td>\n",
       "      <td>BAHIA</td>\n",
       "      <td>DC - Democracia Cristã</td>\n",
       "      <td>PRA MUDAR DE VERDADE</td>\n",
       "      <td>MDB / DC</td>\n",
       "      <td>R$ 575.735,00</td>\n",
       "      <td>27003</td>\n",
       "      <td>Adriana Neves</td>\n",
       "      <td>https://especiais.gazetadopovo.com.br/eleicoes...</td>\n",
       "      <td>https://especiais.gazetadopovo.com.br/eleicoes...</td>\n",
       "      <td>Ibicaraí</td>\n",
       "      <td>0,05%</td>\n",
       "      <td>6</td>\n",
       "      <td>0.0500</td>\n",
       "    </tr>\n",
       "    <tr>\n",
       "      <th>4</th>\n",
       "      <td>27</td>\n",
       "      <td>Democracia Cristã</td>\n",
       "      <td>DC</td>\n",
       "      <td>50000608128</td>\n",
       "      <td>7000.0000</td>\n",
       "      <td>7000.0000</td>\n",
       "      <td>7000.0000</td>\n",
       "      <td>7000.0000</td>\n",
       "      <td>50000608128</td>\n",
       "      <td>27003</td>\n",
       "      <td>adriana-neves-27003</td>\n",
       "      <td>Não foi eleita</td>\n",
       "      <td>195</td>\n",
       "      <td>0,00%</td>\n",
       "      <td>https://especiais.gazetadopovo.com.br/eleicoes...</td>\n",
       "      <td>https://cdn-eleicoes.gazetadopovo.com.br/fotos...</td>\n",
       "      <td>Adriana Neves Pereira dos Santos</td>\n",
       "      <td>Casado(a),  Administrador,       nascida  em 2...</td>\n",
       "      <td>Adriana Neves</td>\n",
       "      <td>Feminino</td>\n",
       "      <td>53 anos</td>\n",
       "      <td>26/09/1968</td>\n",
       "      <td>Administrador</td>\n",
       "      <td>Superior completo</td>\n",
       "      <td>Casado(a)</td>\n",
       "      <td>Branca</td>\n",
       "      <td>Belo Horizonte-BA</td>\n",
       "      <td>27003</td>\n",
       "      <td>Deferido</td>\n",
       "      <td>BAHIA</td>\n",
       "      <td>DC - Democracia Cristã</td>\n",
       "      <td>PRA MUDAR DE VERDADE</td>\n",
       "      <td>MDB / DC</td>\n",
       "      <td>R$ 575.735,00</td>\n",
       "      <td>27003</td>\n",
       "      <td>Adriana Neves</td>\n",
       "      <td>https://especiais.gazetadopovo.com.br/eleicoes...</td>\n",
       "      <td>https://especiais.gazetadopovo.com.br/eleicoes...</td>\n",
       "      <td>Itagimirim</td>\n",
       "      <td>0,05%</td>\n",
       "      <td>2</td>\n",
       "      <td>0.0500</td>\n",
       "    </tr>\n",
       "  </tbody>\n",
       "</table>\n",
       "</div>"
      ],
      "text/plain": [
       "   nrPartido        nomePartido siglaPartido  idCandidato  totalDespesasContratadas  totalDespesasPagas  totalRecebido  totalFinanceiro       idIBGE  nrCandidato         deputado_url          eleito  totalVotes votes%                                  votes_by_city_url                                                img                      nomeCompleto                                               desc   Nome na urna      Sexo    Idade Data de nascimento       Ocupação  Grau de instrução Estado Civil Cor/Raça Município de nascimento  Número Situação da candidatura Estado                 Partido             Coligação Composição BensDeclarados  nr_candidato  deputado_nome                                  url_vote_deputado                                 url_the_city_votes                 cidade percentage  votes  percentage_float\n",
       "0         27  Democracia Cristã           DC  50000608128                 7000.0000           7000.0000      7000.0000        7000.0000  50000608128        27003  adriana-neves-27003  Não foi eleita         195  0,00%  https://especiais.gazetadopovo.com.br/eleicoes...  https://cdn-eleicoes.gazetadopovo.com.br/fotos...  Adriana Neves Pereira dos Santos  Casado(a),  Administrador,       nascida  em 2...  Adriana Neves  Feminino  53 anos         26/09/1968  Administrador  Superior completo    Casado(a)   Branca       Belo Horizonte-BA   27003                Deferido  BAHIA  DC - Democracia Cristã  PRA MUDAR DE VERDADE   MDB / DC  R$ 575.735,00         27003  Adriana Neves  https://especiais.gazetadopovo.com.br/eleicoes...  https://especiais.gazetadopovo.com.br/eleicoes...  Santa Cruz da Vitória      0,35%      9            0.3500\n",
       "1         27  Democracia Cristã           DC  50000608128                 7000.0000           7000.0000      7000.0000        7000.0000  50000608128        27003  adriana-neves-27003  Não foi eleita         195  0,00%  https://especiais.gazetadopovo.com.br/eleicoes...  https://cdn-eleicoes.gazetadopovo.com.br/fotos...  Adriana Neves Pereira dos Santos  Casado(a),  Administrador,       nascida  em 2...  Adriana Neves  Feminino  53 anos         26/09/1968  Administrador  Superior completo    Casado(a)   Branca       Belo Horizonte-BA   27003                Deferido  BAHIA  DC - Democracia Cristã  PRA MUDAR DE VERDADE   MDB / DC  R$ 575.735,00         27003  Adriana Neves  https://especiais.gazetadopovo.com.br/eleicoes...  https://especiais.gazetadopovo.com.br/eleicoes...                Arataca      0,07%      3            0.0700\n",
       "2         27  Democracia Cristã           DC  50000608128                 7000.0000           7000.0000      7000.0000        7000.0000  50000608128        27003  adriana-neves-27003  Não foi eleita         195  0,00%  https://especiais.gazetadopovo.com.br/eleicoes...  https://cdn-eleicoes.gazetadopovo.com.br/fotos...  Adriana Neves Pereira dos Santos  Casado(a),  Administrador,       nascida  em 2...  Adriana Neves  Feminino  53 anos         26/09/1968  Administrador  Superior completo    Casado(a)   Branca       Belo Horizonte-BA   27003                Deferido  BAHIA  DC - Democracia Cristã  PRA MUDAR DE VERDADE   MDB / DC  R$ 575.735,00         27003  Adriana Neves  https://especiais.gazetadopovo.com.br/eleicoes...  https://especiais.gazetadopovo.com.br/eleicoes...               Itajuípe      0,06%      7            0.0600\n",
       "3         27  Democracia Cristã           DC  50000608128                 7000.0000           7000.0000      7000.0000        7000.0000  50000608128        27003  adriana-neves-27003  Não foi eleita         195  0,00%  https://especiais.gazetadopovo.com.br/eleicoes...  https://cdn-eleicoes.gazetadopovo.com.br/fotos...  Adriana Neves Pereira dos Santos  Casado(a),  Administrador,       nascida  em 2...  Adriana Neves  Feminino  53 anos         26/09/1968  Administrador  Superior completo    Casado(a)   Branca       Belo Horizonte-BA   27003                Deferido  BAHIA  DC - Democracia Cristã  PRA MUDAR DE VERDADE   MDB / DC  R$ 575.735,00         27003  Adriana Neves  https://especiais.gazetadopovo.com.br/eleicoes...  https://especiais.gazetadopovo.com.br/eleicoes...               Ibicaraí      0,05%      6            0.0500\n",
       "4         27  Democracia Cristã           DC  50000608128                 7000.0000           7000.0000      7000.0000        7000.0000  50000608128        27003  adriana-neves-27003  Não foi eleita         195  0,00%  https://especiais.gazetadopovo.com.br/eleicoes...  https://cdn-eleicoes.gazetadopovo.com.br/fotos...  Adriana Neves Pereira dos Santos  Casado(a),  Administrador,       nascida  em 2...  Adriana Neves  Feminino  53 anos         26/09/1968  Administrador  Superior completo    Casado(a)   Branca       Belo Horizonte-BA   27003                Deferido  BAHIA  DC - Democracia Cristã  PRA MUDAR DE VERDADE   MDB / DC  R$ 575.735,00         27003  Adriana Neves  https://especiais.gazetadopovo.com.br/eleicoes...  https://especiais.gazetadopovo.com.br/eleicoes...             Itagimirim      0,05%      2            0.0500"
      ]
     },
     "execution_count": 31,
     "metadata": {},
     "output_type": "execute_result"
    }
   ],
   "source": [
    "df_temp_city.head(2)"
   ]
  },
  {
   "cell_type": "code",
   "execution_count": 34,
   "id": "1aefb49c",
   "metadata": {
    "ExecuteTime": {
     "end_time": "2022-05-13T21:20:58.632916Z",
     "start_time": "2022-05-13T21:20:58.520994Z"
    },
    "scrolled": true
   },
   "outputs": [
    {
     "data": {
      "application/vnd.plotly.v1+json": {
       "config": {
        "plotlyServerURL": "https://plot.ly"
       },
       "data": [
        {
         "alignmentgroup": "True",
         "customdata": [
          [
           "0,00%"
          ],
          [
           "0,04%"
          ],
          [
           "0,02%"
          ],
          [
           "0,35%"
          ],
          [
           "0,06%"
          ],
          [
           "0,05%"
          ],
          [
           "0,04%"
          ],
          [
           "0,01%"
          ],
          [
           "0,01%"
          ],
          [
           "0,00%"
          ]
         ],
         "hovertemplate": "cidade=%{x}<br>votes=%{marker.color}<br>percentage=%{customdata[0]}<extra></extra>",
         "legendgroup": "",
         "marker": {
          "color": [
           49,
           24,
           22,
           9,
           7,
           6,
           5,
           5,
           5,
           4
          ],
          "coloraxis": "coloraxis",
          "pattern": {
           "shape": ""
          }
         },
         "name": "",
         "offsetgroup": "",
         "orientation": "v",
         "showlegend": false,
         "textposition": "auto",
         "texttemplate": "%{y:votes}",
         "type": "bar",
         "x": [
          "Salvador",
          "Porto Seguro",
          "Itabuna",
          "Santa Cruz da Vitória",
          "Itajuípe",
          "Ibicaraí",
          "Santa Rita de Cássia",
          "Lauro de Freitas",
          "Jacobina",
          "Feira de Santana"
         ],
         "xaxis": "x",
         "y": [
          49,
          24,
          22,
          9,
          7,
          6,
          5,
          5,
          5,
          4
         ],
         "yaxis": "y"
        }
       ],
       "layout": {
        "barmode": "relative",
        "coloraxis": {
         "colorbar": {
          "title": {
           "text": "votes"
          }
         },
         "colorscale": [
          [
           0,
           "#000004"
          ],
          [
           0.1111111111111111,
           "#1b0c41"
          ],
          [
           0.2222222222222222,
           "#4a0c6b"
          ],
          [
           0.3333333333333333,
           "#781c6d"
          ],
          [
           0.4444444444444444,
           "#a52c60"
          ],
          [
           0.5555555555555556,
           "#cf4446"
          ],
          [
           0.6666666666666666,
           "#ed6925"
          ],
          [
           0.7777777777777778,
           "#fb9b06"
          ],
          [
           0.8888888888888888,
           "#f7d13d"
          ],
          [
           1,
           "#fcffa4"
          ]
         ]
        },
        "legend": {
         "tracegroupgap": 0
        },
        "template": {
         "data": {
          "bar": [
           {
            "error_x": {
             "color": "#2a3f5f"
            },
            "error_y": {
             "color": "#2a3f5f"
            },
            "marker": {
             "line": {
              "color": "#E5ECF6",
              "width": 0.5
             },
             "pattern": {
              "fillmode": "overlay",
              "size": 10,
              "solidity": 0.2
             }
            },
            "type": "bar"
           }
          ],
          "barpolar": [
           {
            "marker": {
             "line": {
              "color": "#E5ECF6",
              "width": 0.5
             },
             "pattern": {
              "fillmode": "overlay",
              "size": 10,
              "solidity": 0.2
             }
            },
            "type": "barpolar"
           }
          ],
          "carpet": [
           {
            "aaxis": {
             "endlinecolor": "#2a3f5f",
             "gridcolor": "white",
             "linecolor": "white",
             "minorgridcolor": "white",
             "startlinecolor": "#2a3f5f"
            },
            "baxis": {
             "endlinecolor": "#2a3f5f",
             "gridcolor": "white",
             "linecolor": "white",
             "minorgridcolor": "white",
             "startlinecolor": "#2a3f5f"
            },
            "type": "carpet"
           }
          ],
          "choropleth": [
           {
            "colorbar": {
             "outlinewidth": 0,
             "ticks": ""
            },
            "type": "choropleth"
           }
          ],
          "contour": [
           {
            "colorbar": {
             "outlinewidth": 0,
             "ticks": ""
            },
            "colorscale": [
             [
              0,
              "#0d0887"
             ],
             [
              0.1111111111111111,
              "#46039f"
             ],
             [
              0.2222222222222222,
              "#7201a8"
             ],
             [
              0.3333333333333333,
              "#9c179e"
             ],
             [
              0.4444444444444444,
              "#bd3786"
             ],
             [
              0.5555555555555556,
              "#d8576b"
             ],
             [
              0.6666666666666666,
              "#ed7953"
             ],
             [
              0.7777777777777778,
              "#fb9f3a"
             ],
             [
              0.8888888888888888,
              "#fdca26"
             ],
             [
              1,
              "#f0f921"
             ]
            ],
            "type": "contour"
           }
          ],
          "contourcarpet": [
           {
            "colorbar": {
             "outlinewidth": 0,
             "ticks": ""
            },
            "type": "contourcarpet"
           }
          ],
          "heatmap": [
           {
            "colorbar": {
             "outlinewidth": 0,
             "ticks": ""
            },
            "colorscale": [
             [
              0,
              "#0d0887"
             ],
             [
              0.1111111111111111,
              "#46039f"
             ],
             [
              0.2222222222222222,
              "#7201a8"
             ],
             [
              0.3333333333333333,
              "#9c179e"
             ],
             [
              0.4444444444444444,
              "#bd3786"
             ],
             [
              0.5555555555555556,
              "#d8576b"
             ],
             [
              0.6666666666666666,
              "#ed7953"
             ],
             [
              0.7777777777777778,
              "#fb9f3a"
             ],
             [
              0.8888888888888888,
              "#fdca26"
             ],
             [
              1,
              "#f0f921"
             ]
            ],
            "type": "heatmap"
           }
          ],
          "heatmapgl": [
           {
            "colorbar": {
             "outlinewidth": 0,
             "ticks": ""
            },
            "colorscale": [
             [
              0,
              "#0d0887"
             ],
             [
              0.1111111111111111,
              "#46039f"
             ],
             [
              0.2222222222222222,
              "#7201a8"
             ],
             [
              0.3333333333333333,
              "#9c179e"
             ],
             [
              0.4444444444444444,
              "#bd3786"
             ],
             [
              0.5555555555555556,
              "#d8576b"
             ],
             [
              0.6666666666666666,
              "#ed7953"
             ],
             [
              0.7777777777777778,
              "#fb9f3a"
             ],
             [
              0.8888888888888888,
              "#fdca26"
             ],
             [
              1,
              "#f0f921"
             ]
            ],
            "type": "heatmapgl"
           }
          ],
          "histogram": [
           {
            "marker": {
             "pattern": {
              "fillmode": "overlay",
              "size": 10,
              "solidity": 0.2
             }
            },
            "type": "histogram"
           }
          ],
          "histogram2d": [
           {
            "colorbar": {
             "outlinewidth": 0,
             "ticks": ""
            },
            "colorscale": [
             [
              0,
              "#0d0887"
             ],
             [
              0.1111111111111111,
              "#46039f"
             ],
             [
              0.2222222222222222,
              "#7201a8"
             ],
             [
              0.3333333333333333,
              "#9c179e"
             ],
             [
              0.4444444444444444,
              "#bd3786"
             ],
             [
              0.5555555555555556,
              "#d8576b"
             ],
             [
              0.6666666666666666,
              "#ed7953"
             ],
             [
              0.7777777777777778,
              "#fb9f3a"
             ],
             [
              0.8888888888888888,
              "#fdca26"
             ],
             [
              1,
              "#f0f921"
             ]
            ],
            "type": "histogram2d"
           }
          ],
          "histogram2dcontour": [
           {
            "colorbar": {
             "outlinewidth": 0,
             "ticks": ""
            },
            "colorscale": [
             [
              0,
              "#0d0887"
             ],
             [
              0.1111111111111111,
              "#46039f"
             ],
             [
              0.2222222222222222,
              "#7201a8"
             ],
             [
              0.3333333333333333,
              "#9c179e"
             ],
             [
              0.4444444444444444,
              "#bd3786"
             ],
             [
              0.5555555555555556,
              "#d8576b"
             ],
             [
              0.6666666666666666,
              "#ed7953"
             ],
             [
              0.7777777777777778,
              "#fb9f3a"
             ],
             [
              0.8888888888888888,
              "#fdca26"
             ],
             [
              1,
              "#f0f921"
             ]
            ],
            "type": "histogram2dcontour"
           }
          ],
          "mesh3d": [
           {
            "colorbar": {
             "outlinewidth": 0,
             "ticks": ""
            },
            "type": "mesh3d"
           }
          ],
          "parcoords": [
           {
            "line": {
             "colorbar": {
              "outlinewidth": 0,
              "ticks": ""
             }
            },
            "type": "parcoords"
           }
          ],
          "pie": [
           {
            "automargin": true,
            "type": "pie"
           }
          ],
          "scatter": [
           {
            "fillpattern": {
             "fillmode": "overlay",
             "size": 10,
             "solidity": 0.2
            },
            "type": "scatter"
           }
          ],
          "scatter3d": [
           {
            "line": {
             "colorbar": {
              "outlinewidth": 0,
              "ticks": ""
             }
            },
            "marker": {
             "colorbar": {
              "outlinewidth": 0,
              "ticks": ""
             }
            },
            "type": "scatter3d"
           }
          ],
          "scattercarpet": [
           {
            "marker": {
             "colorbar": {
              "outlinewidth": 0,
              "ticks": ""
             }
            },
            "type": "scattercarpet"
           }
          ],
          "scattergeo": [
           {
            "marker": {
             "colorbar": {
              "outlinewidth": 0,
              "ticks": ""
             }
            },
            "type": "scattergeo"
           }
          ],
          "scattergl": [
           {
            "marker": {
             "colorbar": {
              "outlinewidth": 0,
              "ticks": ""
             }
            },
            "type": "scattergl"
           }
          ],
          "scattermapbox": [
           {
            "marker": {
             "colorbar": {
              "outlinewidth": 0,
              "ticks": ""
             }
            },
            "type": "scattermapbox"
           }
          ],
          "scatterpolar": [
           {
            "marker": {
             "colorbar": {
              "outlinewidth": 0,
              "ticks": ""
             }
            },
            "type": "scatterpolar"
           }
          ],
          "scatterpolargl": [
           {
            "marker": {
             "colorbar": {
              "outlinewidth": 0,
              "ticks": ""
             }
            },
            "type": "scatterpolargl"
           }
          ],
          "scatterternary": [
           {
            "marker": {
             "colorbar": {
              "outlinewidth": 0,
              "ticks": ""
             }
            },
            "type": "scatterternary"
           }
          ],
          "surface": [
           {
            "colorbar": {
             "outlinewidth": 0,
             "ticks": ""
            },
            "colorscale": [
             [
              0,
              "#0d0887"
             ],
             [
              0.1111111111111111,
              "#46039f"
             ],
             [
              0.2222222222222222,
              "#7201a8"
             ],
             [
              0.3333333333333333,
              "#9c179e"
             ],
             [
              0.4444444444444444,
              "#bd3786"
             ],
             [
              0.5555555555555556,
              "#d8576b"
             ],
             [
              0.6666666666666666,
              "#ed7953"
             ],
             [
              0.7777777777777778,
              "#fb9f3a"
             ],
             [
              0.8888888888888888,
              "#fdca26"
             ],
             [
              1,
              "#f0f921"
             ]
            ],
            "type": "surface"
           }
          ],
          "table": [
           {
            "cells": {
             "fill": {
              "color": "#EBF0F8"
             },
             "line": {
              "color": "white"
             }
            },
            "header": {
             "fill": {
              "color": "#C8D4E3"
             },
             "line": {
              "color": "white"
             }
            },
            "type": "table"
           }
          ]
         },
         "layout": {
          "annotationdefaults": {
           "arrowcolor": "#2a3f5f",
           "arrowhead": 0,
           "arrowwidth": 1
          },
          "autotypenumbers": "strict",
          "coloraxis": {
           "colorbar": {
            "outlinewidth": 0,
            "ticks": ""
           }
          },
          "colorscale": {
           "diverging": [
            [
             0,
             "#8e0152"
            ],
            [
             0.1,
             "#c51b7d"
            ],
            [
             0.2,
             "#de77ae"
            ],
            [
             0.3,
             "#f1b6da"
            ],
            [
             0.4,
             "#fde0ef"
            ],
            [
             0.5,
             "#f7f7f7"
            ],
            [
             0.6,
             "#e6f5d0"
            ],
            [
             0.7,
             "#b8e186"
            ],
            [
             0.8,
             "#7fbc41"
            ],
            [
             0.9,
             "#4d9221"
            ],
            [
             1,
             "#276419"
            ]
           ],
           "sequential": [
            [
             0,
             "#0d0887"
            ],
            [
             0.1111111111111111,
             "#46039f"
            ],
            [
             0.2222222222222222,
             "#7201a8"
            ],
            [
             0.3333333333333333,
             "#9c179e"
            ],
            [
             0.4444444444444444,
             "#bd3786"
            ],
            [
             0.5555555555555556,
             "#d8576b"
            ],
            [
             0.6666666666666666,
             "#ed7953"
            ],
            [
             0.7777777777777778,
             "#fb9f3a"
            ],
            [
             0.8888888888888888,
             "#fdca26"
            ],
            [
             1,
             "#f0f921"
            ]
           ],
           "sequentialminus": [
            [
             0,
             "#0d0887"
            ],
            [
             0.1111111111111111,
             "#46039f"
            ],
            [
             0.2222222222222222,
             "#7201a8"
            ],
            [
             0.3333333333333333,
             "#9c179e"
            ],
            [
             0.4444444444444444,
             "#bd3786"
            ],
            [
             0.5555555555555556,
             "#d8576b"
            ],
            [
             0.6666666666666666,
             "#ed7953"
            ],
            [
             0.7777777777777778,
             "#fb9f3a"
            ],
            [
             0.8888888888888888,
             "#fdca26"
            ],
            [
             1,
             "#f0f921"
            ]
           ]
          },
          "colorway": [
           "#636efa",
           "#EF553B",
           "#00cc96",
           "#ab63fa",
           "#FFA15A",
           "#19d3f3",
           "#FF6692",
           "#B6E880",
           "#FF97FF",
           "#FECB52"
          ],
          "font": {
           "color": "#2a3f5f"
          },
          "geo": {
           "bgcolor": "white",
           "lakecolor": "white",
           "landcolor": "#E5ECF6",
           "showlakes": true,
           "showland": true,
           "subunitcolor": "white"
          },
          "hoverlabel": {
           "align": "left"
          },
          "hovermode": "closest",
          "mapbox": {
           "style": "light"
          },
          "paper_bgcolor": "white",
          "plot_bgcolor": "#E5ECF6",
          "polar": {
           "angularaxis": {
            "gridcolor": "white",
            "linecolor": "white",
            "ticks": ""
           },
           "bgcolor": "#E5ECF6",
           "radialaxis": {
            "gridcolor": "white",
            "linecolor": "white",
            "ticks": ""
           }
          },
          "scene": {
           "xaxis": {
            "backgroundcolor": "#E5ECF6",
            "gridcolor": "white",
            "gridwidth": 2,
            "linecolor": "white",
            "showbackground": true,
            "ticks": "",
            "zerolinecolor": "white"
           },
           "yaxis": {
            "backgroundcolor": "#E5ECF6",
            "gridcolor": "white",
            "gridwidth": 2,
            "linecolor": "white",
            "showbackground": true,
            "ticks": "",
            "zerolinecolor": "white"
           },
           "zaxis": {
            "backgroundcolor": "#E5ECF6",
            "gridcolor": "white",
            "gridwidth": 2,
            "linecolor": "white",
            "showbackground": true,
            "ticks": "",
            "zerolinecolor": "white"
           }
          },
          "shapedefaults": {
           "line": {
            "color": "#2a3f5f"
           }
          },
          "ternary": {
           "aaxis": {
            "gridcolor": "white",
            "linecolor": "white",
            "ticks": ""
           },
           "baxis": {
            "gridcolor": "white",
            "linecolor": "white",
            "ticks": ""
           },
           "bgcolor": "#E5ECF6",
           "caxis": {
            "gridcolor": "white",
            "linecolor": "white",
            "ticks": ""
           }
          },
          "title": {
           "x": 0.05
          },
          "xaxis": {
           "automargin": true,
           "gridcolor": "white",
           "linecolor": "white",
           "ticks": "",
           "title": {
            "standoff": 15
           },
           "zerolinecolor": "white",
           "zerolinewidth": 2
          },
          "yaxis": {
           "automargin": true,
           "gridcolor": "white",
           "linecolor": "white",
           "ticks": "",
           "title": {
            "standoff": 15
           },
           "zerolinecolor": "white",
           "zerolinewidth": 2
          }
         }
        },
        "title": {
         "text": "Addr"
        },
        "xaxis": {
         "anchor": "y",
         "domain": [
          0,
          1
         ],
         "title": {
          "text": "cidade"
         }
        },
        "yaxis": {
         "anchor": "x",
         "domain": [
          0,
          1
         ],
         "title": {
          "text": "votes"
         }
        }
       }
      },
      "text/html": [
       "<div>                            <div id=\"12fe3c36-71c0-462d-bf56-cd297509d34e\" class=\"plotly-graph-div\" style=\"height:525px; width:100%;\"></div>            <script type=\"text/javascript\">                require([\"plotly\"], function(Plotly) {                    window.PLOTLYENV=window.PLOTLYENV || {};                                    if (document.getElementById(\"12fe3c36-71c0-462d-bf56-cd297509d34e\")) {                    Plotly.newPlot(                        \"12fe3c36-71c0-462d-bf56-cd297509d34e\",                        [{\"alignmentgroup\":\"True\",\"customdata\":[[\"0,00%\"],[\"0,04%\"],[\"0,02%\"],[\"0,35%\"],[\"0,06%\"],[\"0,05%\"],[\"0,04%\"],[\"0,01%\"],[\"0,01%\"],[\"0,00%\"]],\"hovertemplate\":\"cidade=%{x}<br>votes=%{marker.color}<br>percentage=%{customdata[0]}<extra></extra>\",\"legendgroup\":\"\",\"marker\":{\"color\":[49,24,22,9,7,6,5,5,5,4],\"coloraxis\":\"coloraxis\",\"pattern\":{\"shape\":\"\"}},\"name\":\"\",\"offsetgroup\":\"\",\"orientation\":\"v\",\"showlegend\":false,\"textposition\":\"auto\",\"texttemplate\":\"%{y:votes}\",\"x\":[\"Salvador\",\"Porto Seguro\",\"Itabuna\",\"Santa Cruz da Vit\\u00f3ria\",\"Itaju\\u00edpe\",\"Ibicara\\u00ed\",\"Santa Rita de C\\u00e1ssia\",\"Lauro de Freitas\",\"Jacobina\",\"Feira de Santana\"],\"xaxis\":\"x\",\"y\":[49,24,22,9,7,6,5,5,5,4],\"yaxis\":\"y\",\"type\":\"bar\"}],                        {\"template\":{\"data\":{\"histogram2dcontour\":[{\"type\":\"histogram2dcontour\",\"colorbar\":{\"outlinewidth\":0,\"ticks\":\"\"},\"colorscale\":[[0.0,\"#0d0887\"],[0.1111111111111111,\"#46039f\"],[0.2222222222222222,\"#7201a8\"],[0.3333333333333333,\"#9c179e\"],[0.4444444444444444,\"#bd3786\"],[0.5555555555555556,\"#d8576b\"],[0.6666666666666666,\"#ed7953\"],[0.7777777777777778,\"#fb9f3a\"],[0.8888888888888888,\"#fdca26\"],[1.0,\"#f0f921\"]]}],\"choropleth\":[{\"type\":\"choropleth\",\"colorbar\":{\"outlinewidth\":0,\"ticks\":\"\"}}],\"histogram2d\":[{\"type\":\"histogram2d\",\"colorbar\":{\"outlinewidth\":0,\"ticks\":\"\"},\"colorscale\":[[0.0,\"#0d0887\"],[0.1111111111111111,\"#46039f\"],[0.2222222222222222,\"#7201a8\"],[0.3333333333333333,\"#9c179e\"],[0.4444444444444444,\"#bd3786\"],[0.5555555555555556,\"#d8576b\"],[0.6666666666666666,\"#ed7953\"],[0.7777777777777778,\"#fb9f3a\"],[0.8888888888888888,\"#fdca26\"],[1.0,\"#f0f921\"]]}],\"heatmap\":[{\"type\":\"heatmap\",\"colorbar\":{\"outlinewidth\":0,\"ticks\":\"\"},\"colorscale\":[[0.0,\"#0d0887\"],[0.1111111111111111,\"#46039f\"],[0.2222222222222222,\"#7201a8\"],[0.3333333333333333,\"#9c179e\"],[0.4444444444444444,\"#bd3786\"],[0.5555555555555556,\"#d8576b\"],[0.6666666666666666,\"#ed7953\"],[0.7777777777777778,\"#fb9f3a\"],[0.8888888888888888,\"#fdca26\"],[1.0,\"#f0f921\"]]}],\"heatmapgl\":[{\"type\":\"heatmapgl\",\"colorbar\":{\"outlinewidth\":0,\"ticks\":\"\"},\"colorscale\":[[0.0,\"#0d0887\"],[0.1111111111111111,\"#46039f\"],[0.2222222222222222,\"#7201a8\"],[0.3333333333333333,\"#9c179e\"],[0.4444444444444444,\"#bd3786\"],[0.5555555555555556,\"#d8576b\"],[0.6666666666666666,\"#ed7953\"],[0.7777777777777778,\"#fb9f3a\"],[0.8888888888888888,\"#fdca26\"],[1.0,\"#f0f921\"]]}],\"contourcarpet\":[{\"type\":\"contourcarpet\",\"colorbar\":{\"outlinewidth\":0,\"ticks\":\"\"}}],\"contour\":[{\"type\":\"contour\",\"colorbar\":{\"outlinewidth\":0,\"ticks\":\"\"},\"colorscale\":[[0.0,\"#0d0887\"],[0.1111111111111111,\"#46039f\"],[0.2222222222222222,\"#7201a8\"],[0.3333333333333333,\"#9c179e\"],[0.4444444444444444,\"#bd3786\"],[0.5555555555555556,\"#d8576b\"],[0.6666666666666666,\"#ed7953\"],[0.7777777777777778,\"#fb9f3a\"],[0.8888888888888888,\"#fdca26\"],[1.0,\"#f0f921\"]]}],\"surface\":[{\"type\":\"surface\",\"colorbar\":{\"outlinewidth\":0,\"ticks\":\"\"},\"colorscale\":[[0.0,\"#0d0887\"],[0.1111111111111111,\"#46039f\"],[0.2222222222222222,\"#7201a8\"],[0.3333333333333333,\"#9c179e\"],[0.4444444444444444,\"#bd3786\"],[0.5555555555555556,\"#d8576b\"],[0.6666666666666666,\"#ed7953\"],[0.7777777777777778,\"#fb9f3a\"],[0.8888888888888888,\"#fdca26\"],[1.0,\"#f0f921\"]]}],\"mesh3d\":[{\"type\":\"mesh3d\",\"colorbar\":{\"outlinewidth\":0,\"ticks\":\"\"}}],\"scatter\":[{\"fillpattern\":{\"fillmode\":\"overlay\",\"size\":10,\"solidity\":0.2},\"type\":\"scatter\"}],\"parcoords\":[{\"type\":\"parcoords\",\"line\":{\"colorbar\":{\"outlinewidth\":0,\"ticks\":\"\"}}}],\"scatterpolargl\":[{\"type\":\"scatterpolargl\",\"marker\":{\"colorbar\":{\"outlinewidth\":0,\"ticks\":\"\"}}}],\"bar\":[{\"error_x\":{\"color\":\"#2a3f5f\"},\"error_y\":{\"color\":\"#2a3f5f\"},\"marker\":{\"line\":{\"color\":\"#E5ECF6\",\"width\":0.5},\"pattern\":{\"fillmode\":\"overlay\",\"size\":10,\"solidity\":0.2}},\"type\":\"bar\"}],\"scattergeo\":[{\"type\":\"scattergeo\",\"marker\":{\"colorbar\":{\"outlinewidth\":0,\"ticks\":\"\"}}}],\"scatterpolar\":[{\"type\":\"scatterpolar\",\"marker\":{\"colorbar\":{\"outlinewidth\":0,\"ticks\":\"\"}}}],\"histogram\":[{\"marker\":{\"pattern\":{\"fillmode\":\"overlay\",\"size\":10,\"solidity\":0.2}},\"type\":\"histogram\"}],\"scattergl\":[{\"type\":\"scattergl\",\"marker\":{\"colorbar\":{\"outlinewidth\":0,\"ticks\":\"\"}}}],\"scatter3d\":[{\"type\":\"scatter3d\",\"line\":{\"colorbar\":{\"outlinewidth\":0,\"ticks\":\"\"}},\"marker\":{\"colorbar\":{\"outlinewidth\":0,\"ticks\":\"\"}}}],\"scattermapbox\":[{\"type\":\"scattermapbox\",\"marker\":{\"colorbar\":{\"outlinewidth\":0,\"ticks\":\"\"}}}],\"scatterternary\":[{\"type\":\"scatterternary\",\"marker\":{\"colorbar\":{\"outlinewidth\":0,\"ticks\":\"\"}}}],\"scattercarpet\":[{\"type\":\"scattercarpet\",\"marker\":{\"colorbar\":{\"outlinewidth\":0,\"ticks\":\"\"}}}],\"carpet\":[{\"aaxis\":{\"endlinecolor\":\"#2a3f5f\",\"gridcolor\":\"white\",\"linecolor\":\"white\",\"minorgridcolor\":\"white\",\"startlinecolor\":\"#2a3f5f\"},\"baxis\":{\"endlinecolor\":\"#2a3f5f\",\"gridcolor\":\"white\",\"linecolor\":\"white\",\"minorgridcolor\":\"white\",\"startlinecolor\":\"#2a3f5f\"},\"type\":\"carpet\"}],\"table\":[{\"cells\":{\"fill\":{\"color\":\"#EBF0F8\"},\"line\":{\"color\":\"white\"}},\"header\":{\"fill\":{\"color\":\"#C8D4E3\"},\"line\":{\"color\":\"white\"}},\"type\":\"table\"}],\"barpolar\":[{\"marker\":{\"line\":{\"color\":\"#E5ECF6\",\"width\":0.5},\"pattern\":{\"fillmode\":\"overlay\",\"size\":10,\"solidity\":0.2}},\"type\":\"barpolar\"}],\"pie\":[{\"automargin\":true,\"type\":\"pie\"}]},\"layout\":{\"autotypenumbers\":\"strict\",\"colorway\":[\"#636efa\",\"#EF553B\",\"#00cc96\",\"#ab63fa\",\"#FFA15A\",\"#19d3f3\",\"#FF6692\",\"#B6E880\",\"#FF97FF\",\"#FECB52\"],\"font\":{\"color\":\"#2a3f5f\"},\"hovermode\":\"closest\",\"hoverlabel\":{\"align\":\"left\"},\"paper_bgcolor\":\"white\",\"plot_bgcolor\":\"#E5ECF6\",\"polar\":{\"bgcolor\":\"#E5ECF6\",\"angularaxis\":{\"gridcolor\":\"white\",\"linecolor\":\"white\",\"ticks\":\"\"},\"radialaxis\":{\"gridcolor\":\"white\",\"linecolor\":\"white\",\"ticks\":\"\"}},\"ternary\":{\"bgcolor\":\"#E5ECF6\",\"aaxis\":{\"gridcolor\":\"white\",\"linecolor\":\"white\",\"ticks\":\"\"},\"baxis\":{\"gridcolor\":\"white\",\"linecolor\":\"white\",\"ticks\":\"\"},\"caxis\":{\"gridcolor\":\"white\",\"linecolor\":\"white\",\"ticks\":\"\"}},\"coloraxis\":{\"colorbar\":{\"outlinewidth\":0,\"ticks\":\"\"}},\"colorscale\":{\"sequential\":[[0.0,\"#0d0887\"],[0.1111111111111111,\"#46039f\"],[0.2222222222222222,\"#7201a8\"],[0.3333333333333333,\"#9c179e\"],[0.4444444444444444,\"#bd3786\"],[0.5555555555555556,\"#d8576b\"],[0.6666666666666666,\"#ed7953\"],[0.7777777777777778,\"#fb9f3a\"],[0.8888888888888888,\"#fdca26\"],[1.0,\"#f0f921\"]],\"sequentialminus\":[[0.0,\"#0d0887\"],[0.1111111111111111,\"#46039f\"],[0.2222222222222222,\"#7201a8\"],[0.3333333333333333,\"#9c179e\"],[0.4444444444444444,\"#bd3786\"],[0.5555555555555556,\"#d8576b\"],[0.6666666666666666,\"#ed7953\"],[0.7777777777777778,\"#fb9f3a\"],[0.8888888888888888,\"#fdca26\"],[1.0,\"#f0f921\"]],\"diverging\":[[0,\"#8e0152\"],[0.1,\"#c51b7d\"],[0.2,\"#de77ae\"],[0.3,\"#f1b6da\"],[0.4,\"#fde0ef\"],[0.5,\"#f7f7f7\"],[0.6,\"#e6f5d0\"],[0.7,\"#b8e186\"],[0.8,\"#7fbc41\"],[0.9,\"#4d9221\"],[1,\"#276419\"]]},\"xaxis\":{\"gridcolor\":\"white\",\"linecolor\":\"white\",\"ticks\":\"\",\"title\":{\"standoff\":15},\"zerolinecolor\":\"white\",\"automargin\":true,\"zerolinewidth\":2},\"yaxis\":{\"gridcolor\":\"white\",\"linecolor\":\"white\",\"ticks\":\"\",\"title\":{\"standoff\":15},\"zerolinecolor\":\"white\",\"automargin\":true,\"zerolinewidth\":2},\"scene\":{\"xaxis\":{\"backgroundcolor\":\"#E5ECF6\",\"gridcolor\":\"white\",\"linecolor\":\"white\",\"showbackground\":true,\"ticks\":\"\",\"zerolinecolor\":\"white\",\"gridwidth\":2},\"yaxis\":{\"backgroundcolor\":\"#E5ECF6\",\"gridcolor\":\"white\",\"linecolor\":\"white\",\"showbackground\":true,\"ticks\":\"\",\"zerolinecolor\":\"white\",\"gridwidth\":2},\"zaxis\":{\"backgroundcolor\":\"#E5ECF6\",\"gridcolor\":\"white\",\"linecolor\":\"white\",\"showbackground\":true,\"ticks\":\"\",\"zerolinecolor\":\"white\",\"gridwidth\":2}},\"shapedefaults\":{\"line\":{\"color\":\"#2a3f5f\"}},\"annotationdefaults\":{\"arrowcolor\":\"#2a3f5f\",\"arrowhead\":0,\"arrowwidth\":1},\"geo\":{\"bgcolor\":\"white\",\"landcolor\":\"#E5ECF6\",\"subunitcolor\":\"white\",\"showland\":true,\"showlakes\":true,\"lakecolor\":\"white\"},\"title\":{\"x\":0.05},\"mapbox\":{\"style\":\"light\"}}},\"xaxis\":{\"anchor\":\"y\",\"domain\":[0.0,1.0],\"title\":{\"text\":\"cidade\"}},\"yaxis\":{\"anchor\":\"x\",\"domain\":[0.0,1.0],\"title\":{\"text\":\"votes\"}},\"coloraxis\":{\"colorbar\":{\"title\":{\"text\":\"votes\"}},\"colorscale\":[[0.0,\"#000004\"],[0.1111111111111111,\"#1b0c41\"],[0.2222222222222222,\"#4a0c6b\"],[0.3333333333333333,\"#781c6d\"],[0.4444444444444444,\"#a52c60\"],[0.5555555555555556,\"#cf4446\"],[0.6666666666666666,\"#ed6925\"],[0.7777777777777778,\"#fb9b06\"],[0.8888888888888888,\"#f7d13d\"],[1.0,\"#fcffa4\"]]},\"legend\":{\"tracegroupgap\":0},\"title\":{\"text\":\"Addr\"},\"barmode\":\"relative\"},                        {\"responsive\": true}                    ).then(function(){\n",
       "                            \n",
       "var gd = document.getElementById('12fe3c36-71c0-462d-bf56-cd297509d34e');\n",
       "var x = new MutationObserver(function (mutations, observer) {{\n",
       "        var display = window.getComputedStyle(gd).display;\n",
       "        if (!display || display === 'none') {{\n",
       "            console.log([gd, 'removed!']);\n",
       "            Plotly.purge(gd);\n",
       "            observer.disconnect();\n",
       "        }}\n",
       "}});\n",
       "\n",
       "// Listen for the removal of the full notebook cells\n",
       "var notebookContainer = gd.closest('#notebook-container');\n",
       "if (notebookContainer) {{\n",
       "    x.observe(notebookContainer, {childList: true});\n",
       "}}\n",
       "\n",
       "// Listen for the clearing of the current output cell\n",
       "var outputEl = gd.closest('.output');\n",
       "if (outputEl) {{\n",
       "    x.observe(outputEl, {childList: true});\n",
       "}}\n",
       "\n",
       "                        })                };                });            </script>        </div>"
      ]
     },
     "metadata": {},
     "output_type": "display_data"
    }
   ],
   "source": [
    "import plotly.express as px\n",
    "\n",
    "fig = px.bar(df_temp_city.sort_values('votes', ascending=False).head(10),\n",
    "             x='cidade',\n",
    "             y='votes',\n",
    "             color='votes',\n",
    "             color_continuous_scale=\"inferno\",\n",
    "             hover_data=['percentage'],\n",
    "             text_auto='votes',\n",
    "             title='Addr')\n",
    "fig.show()"
   ]
  },
  {
   "cell_type": "markdown",
   "id": "432f686b",
   "metadata": {},
   "source": [
    "## GeoJson mapa top 10"
   ]
  },
  {
   "cell_type": "code",
   "execution_count": null,
   "id": "eeb80afc",
   "metadata": {
    "ExecuteTime": {
     "end_time": "2022-05-13T20:12:17.164073Z",
     "start_time": "2022-05-13T20:12:17.164073Z"
    }
   },
   "outputs": [],
   "source": [
    "with open('./geojson-bahia-cities.json', encoding=\"utf-8\") as response:\n",
    "    municipios = json.load(response)"
   ]
  },
  {
   "cell_type": "code",
   "execution_count": null,
   "id": "b80edf04",
   "metadata": {
    "ExecuteTime": {
     "end_time": "2022-05-13T20:12:17.167070Z",
     "start_time": "2022-05-13T20:12:17.167070Z"
    }
   },
   "outputs": [],
   "source": [
    "fig = px.choropleth_mapbox(data_frame=df_temp.sort_values('votes', ascending=False).head(10),\n",
    "                           geojson=municipios, \n",
    "                           color=\"votes\", # valor a ser pintado # votes\n",
    "                           locations=\"cidade\",  # nome do local\n",
    "                           featureidkey=\"properties.name\", # nome da cidade no GeoJSON\n",
    "                           center = {\"lat\": -14.0902, \"lon\": -40.7129},\n",
    "                           mapbox_style=\"carto-positron\",\n",
    "                           color_continuous_scale=\"electric\",\n",
    "                           zoom=4)\n",
    "fig.update_layout(\n",
    "    title_text = 'Bahia Map - Rui Costa',\n",
    ")\n",
    "fig.show()"
   ]
  },
  {
   "cell_type": "code",
   "execution_count": null,
   "id": "7072ba54",
   "metadata": {
    "ExecuteTime": {
     "end_time": "2022-05-13T20:12:17.169068Z",
     "start_time": "2022-05-13T20:12:17.169068Z"
    }
   },
   "outputs": [],
   "source": [
    "fig = px.choropleth_mapbox(data_frame=df_temp.sort_values('porcentagem', ascending=False).head(10),\n",
    "                           geojson=municipios, \n",
    "                           color=\"porcentagem\", # valor a ser pintado # votes\n",
    "                           locations=\"cidade\",  # nome do local\n",
    "                           featureidkey=\"properties.name\", # nome da cidade no GeoJSON\n",
    "                           center = {\"lat\": -14.0902, \"lon\": -40.7129},\n",
    "                           mapbox_style=\"carto-positron\",\n",
    "                           color_continuous_scale=\"electric\",\n",
    "                           zoom=5)\n",
    "fig.update_layout(\n",
    "    title_text = 'Bahia Map - Rui Costa',\n",
    ")\n",
    "fig.show()"
   ]
  }
 ],
 "metadata": {
  "kernelspec": {
   "display_name": "Python 3 (ipykernel)",
   "language": "python",
   "name": "python3"
  },
  "language_info": {
   "codemirror_mode": {
    "name": "ipython",
    "version": 3
   },
   "file_extension": ".py",
   "mimetype": "text/x-python",
   "name": "python",
   "nbconvert_exporter": "python",
   "pygments_lexer": "ipython3",
   "version": "3.10.4"
  },
  "toc": {
   "base_numbering": 1,
   "nav_menu": {},
   "number_sections": true,
   "sideBar": true,
   "skip_h1_title": false,
   "title_cell": "Table of Contents",
   "title_sidebar": "Contents",
   "toc_cell": false,
   "toc_position": {},
   "toc_section_display": true,
   "toc_window_display": false
  },
  "varInspector": {
   "cols": {
    "lenName": 16,
    "lenType": 16,
    "lenVar": 40
   },
   "kernels_config": {
    "python": {
     "delete_cmd_postfix": "",
     "delete_cmd_prefix": "del ",
     "library": "var_list.py",
     "varRefreshCmd": "print(var_dic_list())"
    },
    "r": {
     "delete_cmd_postfix": ") ",
     "delete_cmd_prefix": "rm(",
     "library": "var_list.r",
     "varRefreshCmd": "cat(var_dic_list()) "
    }
   },
   "types_to_exclude": [
    "module",
    "function",
    "builtin_function_or_method",
    "instance",
    "_Feature"
   ],
   "window_display": false
  }
 },
 "nbformat": 4,
 "nbformat_minor": 5
}
